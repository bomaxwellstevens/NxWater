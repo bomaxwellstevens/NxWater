{
 "cells": [
  {
   "cell_type": "code",
   "execution_count": 1,
   "id": "d0af5e9a",
   "metadata": {},
   "outputs": [],
   "source": [
    "import pandas as pd\n",
    "import numpy as np\n",
    "import seaborn as sns\n",
    "import matplotlib.pyplot as plt\n",
    "import statsmodels.api as sm\n",
    "from statsmodels.formula.api import ols\n",
    "import matplotlib.pyplot as plt\n",
    "from scipy.stats import shapiro\n",
    "from statsmodels.stats.anova import AnovaRM\n",
    "import pylab"
   ]
  },
  {
   "cell_type": "code",
   "execution_count": 2,
   "id": "2df1212a",
   "metadata": {},
   "outputs": [],
   "source": [
    "# weights_data = pd.read_excel('../Data/LECO/Input/NxIrr_LECO_Weights_withCN_3_25.xlsx', sheet_name='LECO_NxIrr', engine='openpyxl')\n",
    "# weights_data = weights_data[['Set ID','Description', 'Mass', 'Comments','Replicate ID']]\n",
    "# weights_data = weights_data.groupby(['Set ID','Description','Comments','Replicate ID']).mean().reset_index()\n",
    "# print(weights_data.shape)\n",
    "# weights_data.head()"
   ]
  },
  {
   "cell_type": "code",
   "execution_count": 3,
   "id": "15434727",
   "metadata": {},
   "outputs": [],
   "source": [
    "# weights_data.dtypes"
   ]
  },
  {
   "cell_type": "code",
   "execution_count": 4,
   "id": "43f24ee0",
   "metadata": {},
   "outputs": [],
   "source": [
    "# cn_data = pd.read_csv('../Data/LECO/Output/leco-carbon-nitrogen_thru_1235_3_25.csv')\n",
    "# cn_data = cn_data[['Set ID','Carbon','Nitrogen']]\n",
    "# cn_data = cn_data.replace({'%':''}, regex = True)\n",
    "# cn_data['Carbon'] = cn_data['Carbon'].astype('float')\n",
    "# cn_data['Nitrogen'] = cn_data['Nitrogen'].astype('float')\n",
    "# cn_data = cn_data.groupby('Set ID').mean().reset_index()\n",
    "# print(cn_data.shape)\n",
    "# cn_data.head()"
   ]
  },
  {
   "cell_type": "code",
   "execution_count": 5,
   "id": "0ef4715e",
   "metadata": {},
   "outputs": [],
   "source": [
    "# final_df = pd.merge(weights_data, cn_data, right_on=['Set ID'], left_on=['Set ID'])\n",
    "# final_df['Comments'] = final_df['Comments'].astype('str')\n",
    "# final_df['Replicate ID'] = final_df['Replicate ID'].astype('str')\n",
    "# final_df = final_df[~final_df['Replicate ID'].isna()]\n",
    "# final_df = final_df[final_df['Replicate ID'] != 'Standard']\n",
    "# final_df = final_df[final_df['Comments'] != 'ARDEC']\n",
    "# final_df['N_trt'] = [x[-1] for x in final_df['Comments']]\n",
    "# final_df['W_trt'] = [x[1] for x in final_df['Comments']]\n",
    "# final_df['Date'] = [x.split('-')[1] + '-' + x.split('-')[2][:2] for x in final_df['Replicate ID']]\n",
    "# final_df = final_df[final_df['Carbon'] < 60]\n",
    "# final_df = final_df[final_df['Carbon'] > 5]\n",
    "# print(final_df.shape)\n",
    "# final_df.head()"
   ]
  },
  {
   "cell_type": "code",
   "execution_count": 6,
   "id": "2f361523",
   "metadata": {},
   "outputs": [
    {
     "name": "stdout",
     "output_type": "stream",
     "text": [
      "{'06-30', '09-23', '08-04', '06-09'}\n",
      "{'Shoots', 'Leaves', 'Cobs', 'Grain'}\n"
     ]
    },
    {
     "data": {
      "text/html": [
       "<div>\n",
       "<style scoped>\n",
       "    .dataframe tbody tr th:only-of-type {\n",
       "        vertical-align: middle;\n",
       "    }\n",
       "\n",
       "    .dataframe tbody tr th {\n",
       "        vertical-align: top;\n",
       "    }\n",
       "\n",
       "    .dataframe thead th {\n",
       "        text-align: right;\n",
       "    }\n",
       "</style>\n",
       "<table border=\"1\" class=\"dataframe\">\n",
       "  <thead>\n",
       "    <tr style=\"text-align: right;\">\n",
       "      <th></th>\n",
       "      <th>Set ID</th>\n",
       "      <th>Sample Type</th>\n",
       "      <th>Name</th>\n",
       "      <th>Method Name</th>\n",
       "      <th>Description</th>\n",
       "      <th>Replicate ID</th>\n",
       "      <th>Mass</th>\n",
       "      <th>Comments</th>\n",
       "      <th>Operator</th>\n",
       "      <th>Tray ID</th>\n",
       "      <th>C</th>\n",
       "      <th>N</th>\n",
       "      <th>Block</th>\n",
       "      <th>IrrTrt</th>\n",
       "      <th>NTrt</th>\n",
       "      <th>IrrxN</th>\n",
       "      <th>Date</th>\n",
       "      <th>Carbon</th>\n",
       "    </tr>\n",
       "  </thead>\n",
       "  <tbody>\n",
       "    <tr>\n",
       "      <th>0</th>\n",
       "      <td>1</td>\n",
       "      <td>Sample</td>\n",
       "      <td>1</td>\n",
       "      <td>CORN LEAF</td>\n",
       "      <td>Shoots</td>\n",
       "      <td>2021-06-09 00:00:00</td>\n",
       "      <td>0.1245</td>\n",
       "      <td>216</td>\n",
       "      <td>NaN</td>\n",
       "      <td>NaN</td>\n",
       "      <td>0.447</td>\n",
       "      <td>0.0344</td>\n",
       "      <td>2.0</td>\n",
       "      <td>1.0</td>\n",
       "      <td>6.0</td>\n",
       "      <td>16</td>\n",
       "      <td>06-09</td>\n",
       "      <td>0.447</td>\n",
       "    </tr>\n",
       "    <tr>\n",
       "      <th>1</th>\n",
       "      <td>1</td>\n",
       "      <td>Sample</td>\n",
       "      <td>1</td>\n",
       "      <td>CORN LEAF</td>\n",
       "      <td>Shoots</td>\n",
       "      <td>2021-06-09 00:00:00</td>\n",
       "      <td>0.1246</td>\n",
       "      <td>216</td>\n",
       "      <td>NaN</td>\n",
       "      <td>NaN</td>\n",
       "      <td>0.446</td>\n",
       "      <td>0.0336</td>\n",
       "      <td>2.0</td>\n",
       "      <td>1.0</td>\n",
       "      <td>6.0</td>\n",
       "      <td>16</td>\n",
       "      <td>06-09</td>\n",
       "      <td>0.446</td>\n",
       "    </tr>\n",
       "    <tr>\n",
       "      <th>2</th>\n",
       "      <td>2</td>\n",
       "      <td>Sample</td>\n",
       "      <td>2</td>\n",
       "      <td>CORN LEAF</td>\n",
       "      <td>Shoots</td>\n",
       "      <td>2021-06-09 00:00:00</td>\n",
       "      <td>0.1212</td>\n",
       "      <td>323</td>\n",
       "      <td>NaN</td>\n",
       "      <td>NaN</td>\n",
       "      <td>0.449</td>\n",
       "      <td>0.0318</td>\n",
       "      <td>3.0</td>\n",
       "      <td>2.0</td>\n",
       "      <td>3.0</td>\n",
       "      <td>23</td>\n",
       "      <td>06-09</td>\n",
       "      <td>0.449</td>\n",
       "    </tr>\n",
       "    <tr>\n",
       "      <th>3</th>\n",
       "      <td>2</td>\n",
       "      <td>Sample</td>\n",
       "      <td>2</td>\n",
       "      <td>CORN LEAF</td>\n",
       "      <td>Shoots</td>\n",
       "      <td>2021-06-09 00:00:00</td>\n",
       "      <td>0.1279</td>\n",
       "      <td>323</td>\n",
       "      <td>NaN</td>\n",
       "      <td>NaN</td>\n",
       "      <td>0.446</td>\n",
       "      <td>0.0313</td>\n",
       "      <td>3.0</td>\n",
       "      <td>2.0</td>\n",
       "      <td>3.0</td>\n",
       "      <td>23</td>\n",
       "      <td>06-09</td>\n",
       "      <td>0.446</td>\n",
       "    </tr>\n",
       "    <tr>\n",
       "      <th>4</th>\n",
       "      <td>3</td>\n",
       "      <td>Sample</td>\n",
       "      <td>3</td>\n",
       "      <td>CORN LEAF</td>\n",
       "      <td>Shoots</td>\n",
       "      <td>2021-06-09 00:00:00</td>\n",
       "      <td>0.1022</td>\n",
       "      <td>311</td>\n",
       "      <td>NaN</td>\n",
       "      <td>NaN</td>\n",
       "      <td>0.414</td>\n",
       "      <td>0.0338</td>\n",
       "      <td>3.0</td>\n",
       "      <td>1.0</td>\n",
       "      <td>1.0</td>\n",
       "      <td>11</td>\n",
       "      <td>06-09</td>\n",
       "      <td>0.414</td>\n",
       "    </tr>\n",
       "  </tbody>\n",
       "</table>\n",
       "</div>"
      ],
      "text/plain": [
       "  Set ID Sample Type  Name Method Name Description         Replicate ID  \\\n",
       "0      1      Sample     1   CORN LEAF      Shoots  2021-06-09 00:00:00   \n",
       "1      1      Sample     1   CORN LEAF      Shoots  2021-06-09 00:00:00   \n",
       "2      2      Sample     2   CORN LEAF      Shoots  2021-06-09 00:00:00   \n",
       "3      2      Sample     2   CORN LEAF      Shoots  2021-06-09 00:00:00   \n",
       "4      3      Sample     3   CORN LEAF      Shoots  2021-06-09 00:00:00   \n",
       "\n",
       "     Mass Comments Operator Tray ID      C       N  Block  IrrTrt  NTrt IrrxN  \\\n",
       "0  0.1245      216      NaN     NaN  0.447  0.0344    2.0     1.0   6.0    16   \n",
       "1  0.1246      216      NaN     NaN  0.446  0.0336    2.0     1.0   6.0    16   \n",
       "2  0.1212      323      NaN     NaN  0.449  0.0318    3.0     2.0   3.0    23   \n",
       "3  0.1279      323      NaN     NaN  0.446  0.0313    3.0     2.0   3.0    23   \n",
       "4  0.1022      311      NaN     NaN  0.414  0.0338    3.0     1.0   1.0    11   \n",
       "\n",
       "    Date  Carbon  \n",
       "0  06-09   0.447  \n",
       "1  06-09   0.446  \n",
       "2  06-09   0.449  \n",
       "3  06-09   0.446  \n",
       "4  06-09   0.414  "
      ]
     },
     "execution_count": 6,
     "metadata": {},
     "output_type": "execute_result"
    }
   ],
   "source": [
    "data = pd.read_excel('../Data/LECO/LECO Sample Weights and CN Akron NxIrr 2021.xlsx', engine='openpyxl')\n",
    "data = data[data['Block'] > 0]\n",
    "data['Replicate ID'] = data['Replicate ID'].astype('str')\n",
    "data['Date'] = [x.split('-')[1] + '-' + x.split('-')[2][:2] for x in data['Replicate ID']]\n",
    "data = data[data['Date'] != '07-21']\n",
    "data = data[data['C'] < 0.7]\n",
    "data['Carbon'] = data['C']\n",
    "# data['Block'] = [str(int(x)) for x in data['Block']]\n",
    "# data['IrrTrt'] = [str(int(x)) for x in data['IrrTrt']]\n",
    "# data['NTrt'] = [str(int(x)) for x in data['NTrt']]\n",
    "# data['Block'] = data['Block'].astype(str)\n",
    "# data['IrrTrt'] = data['IrrTrt'].astype(str)\n",
    "# data['NTrt'] = data['NTrt'].astype(str)\n",
    "data['Description'] = data['Description'].replace({'Stalks':'Shoots'})\n",
    "data_leaves = data[data['Description'] == 'Leaves']\n",
    "# data_stalks = data[data['Description'] == 'Stalks']\n",
    "data_shoots = data[data['Description'] == 'Shoots']\n",
    "print(set(data_shoots['Date']))\n",
    "print(set(data['Description']))\n",
    "data.head()"
   ]
  },
  {
   "cell_type": "code",
   "execution_count": 7,
   "id": "70651ec5",
   "metadata": {},
   "outputs": [
    {
     "data": {
      "text/plain": [
       "<AxesSubplot:xlabel='Date', ylabel='N'>"
      ]
     },
     "execution_count": 7,
     "metadata": {},
     "output_type": "execute_result"
    },
    {
     "data": {
      "image/png": "[encoded data removed]",
      "text/plain": [
       "<Figure size 864x432 with 4 Axes>"
      ]
     },
     "metadata": {
      "needs_background": "light"
     },
     "output_type": "display_data"
    }
   ],
   "source": [
    "fig, axes = plt.subplots(2, 2, figsize=(12,6), sharey=False)\n",
    "sns.boxplot(y = 'C', x = 'Date', hue = 'NTrt', palette = 'Greens', order = ['06-09','06-30','08-04','09-23'],\n",
    "            data = data_shoots[data_shoots['IrrTrt'] == 1], hue_order = [1,2,3,4,5,6], ax = axes[0,0])\n",
    "axes[0,0].get_legend().remove()\n",
    "axes[0,0].set_ylim([0.3,0.5])\n",
    "sns.boxplot(y = 'C', x = 'Date', hue = 'NTrt', palette = 'Greens', order = ['06-09','06-30','08-04','09-23'],\n",
    "            data = data_shoots[data_shoots['IrrTrt'] == 2], hue_order = [1,2,3,4,5,6], ax = axes[0,1])\n",
    "axes[0,1].legend(bbox_to_anchor=(1.1, 1.05))\n",
    "axes[0,1].set_ylim([0.3,0.5])\n",
    "sns.boxplot(y = 'N', x = 'Date', hue = 'IrrTrt', palette = 'Reds', order = ['06-09','06-30','08-04','09-23'],\n",
    "            data = data_shoots, hue_order = [1,2], ax = axes[1,0])"
   ]
  },
  {
   "cell_type": "code",
   "execution_count": 8,
   "id": "7a73b4ca",
   "metadata": {},
   "outputs": [
    {
     "name": "stdout",
     "output_type": "stream",
     "text": [
      "Statistics=0.921, p=0.000\n",
      "Sample does not look Gaussian (reject H0)\n"
     ]
    },
    {
     "name": "stderr",
     "output_type": "stream",
     "text": [
      "/home/bostevens/anaconda3/envs/py36/lib/python3.6/site-packages/ipykernel_launcher.py:3: SettingWithCopyWarning: \n",
      "A value is trying to be set on a copy of a slice from a DataFrame.\n",
      "Try using .loc[row_indexer,col_indexer] = value instead\n",
      "\n",
      "See the caveats in the documentation: https://pandas.pydata.org/pandas-docs/stable/user_guide/indexing.html#returning-a-view-versus-a-copy\n",
      "  This is separate from the ipykernel package so we can avoid doing imports until\n"
     ]
    }
   ],
   "source": [
    "# normality test\n",
    "# Plot residuals\n",
    "data_leaves['Clog'] = np.log(data_leaves['C'])\n",
    "stat, p = shapiro(data_leaves['Clog'])\n",
    "print('Statistics=%.3f, p=%.3f' % (stat, p))\n",
    "# interpret\n",
    "alpha = 0.05\n",
    "if p > alpha:\n",
    "    print('Sample looks Gaussian (fail to reject H0)')\n",
    "else:\n",
    "    print('Sample does not look Gaussian (reject H0)')"
   ]
  },
  {
   "cell_type": "code",
   "execution_count": 13,
   "id": "f8ca5526",
   "metadata": {},
   "outputs": [
    {
     "data": {
      "image/png": "[encoded data removed]",
      "text/plain": [
       "<Figure size 432x288 with 1 Axes>"
      ]
     },
     "execution_count": 13,
     "metadata": {},
     "output_type": "execute_result"
    },
    {
     "data": {
      "image/png": "[encoded data removed]",
      "text/plain": [
       "<Figure size 432x288 with 1 Axes>"
      ]
     },
     "metadata": {
      "needs_background": "light"
     },
     "output_type": "display_data"
    }
   ],
   "source": [
    "# QQ plot\n",
    "sm.qqplot(data_shoots['N'], line = 's')"
   ]
  },
  {
   "cell_type": "code",
   "execution_count": 10,
   "id": "942453c2",
   "metadata": {},
   "outputs": [
    {
     "data": {
      "text/html": [
       "<div>\n",
       "<style scoped>\n",
       "    .dataframe tbody tr th:only-of-type {\n",
       "        vertical-align: middle;\n",
       "    }\n",
       "\n",
       "    .dataframe tbody tr th {\n",
       "        vertical-align: top;\n",
       "    }\n",
       "\n",
       "    .dataframe thead th {\n",
       "        text-align: right;\n",
       "    }\n",
       "</style>\n",
       "<table border=\"1\" class=\"dataframe\">\n",
       "  <thead>\n",
       "    <tr style=\"text-align: right;\">\n",
       "      <th></th>\n",
       "      <th>Set ID</th>\n",
       "      <th>Sample Type</th>\n",
       "      <th>Name</th>\n",
       "      <th>Method Name</th>\n",
       "      <th>Description</th>\n",
       "      <th>Replicate ID</th>\n",
       "      <th>Mass</th>\n",
       "      <th>Comments</th>\n",
       "      <th>Operator</th>\n",
       "      <th>Tray ID</th>\n",
       "      <th>C</th>\n",
       "      <th>N</th>\n",
       "      <th>Block</th>\n",
       "      <th>IrrTrt</th>\n",
       "      <th>NTrt</th>\n",
       "      <th>IrrxN</th>\n",
       "      <th>Carbon</th>\n",
       "    </tr>\n",
       "    <tr>\n",
       "      <th>Date</th>\n",
       "      <th></th>\n",
       "      <th></th>\n",
       "      <th></th>\n",
       "      <th></th>\n",
       "      <th></th>\n",
       "      <th></th>\n",
       "      <th></th>\n",
       "      <th></th>\n",
       "      <th></th>\n",
       "      <th></th>\n",
       "      <th></th>\n",
       "      <th></th>\n",
       "      <th></th>\n",
       "      <th></th>\n",
       "      <th></th>\n",
       "      <th></th>\n",
       "      <th></th>\n",
       "    </tr>\n",
       "  </thead>\n",
       "  <tbody>\n",
       "    <tr>\n",
       "      <th>06-09</th>\n",
       "      <td>71</td>\n",
       "      <td>71</td>\n",
       "      <td>71</td>\n",
       "      <td>71</td>\n",
       "      <td>71</td>\n",
       "      <td>71</td>\n",
       "      <td>71</td>\n",
       "      <td>71</td>\n",
       "      <td>2</td>\n",
       "      <td>53</td>\n",
       "      <td>71</td>\n",
       "      <td>71</td>\n",
       "      <td>71</td>\n",
       "      <td>71</td>\n",
       "      <td>71</td>\n",
       "      <td>71</td>\n",
       "      <td>71</td>\n",
       "    </tr>\n",
       "    <tr>\n",
       "      <th>06-30</th>\n",
       "      <td>72</td>\n",
       "      <td>72</td>\n",
       "      <td>72</td>\n",
       "      <td>72</td>\n",
       "      <td>72</td>\n",
       "      <td>72</td>\n",
       "      <td>72</td>\n",
       "      <td>72</td>\n",
       "      <td>0</td>\n",
       "      <td>72</td>\n",
       "      <td>72</td>\n",
       "      <td>72</td>\n",
       "      <td>72</td>\n",
       "      <td>72</td>\n",
       "      <td>72</td>\n",
       "      <td>72</td>\n",
       "      <td>72</td>\n",
       "    </tr>\n",
       "    <tr>\n",
       "      <th>08-04</th>\n",
       "      <td>72</td>\n",
       "      <td>72</td>\n",
       "      <td>72</td>\n",
       "      <td>72</td>\n",
       "      <td>72</td>\n",
       "      <td>72</td>\n",
       "      <td>72</td>\n",
       "      <td>72</td>\n",
       "      <td>0</td>\n",
       "      <td>72</td>\n",
       "      <td>72</td>\n",
       "      <td>72</td>\n",
       "      <td>72</td>\n",
       "      <td>72</td>\n",
       "      <td>72</td>\n",
       "      <td>72</td>\n",
       "      <td>72</td>\n",
       "    </tr>\n",
       "    <tr>\n",
       "      <th>09-23</th>\n",
       "      <td>72</td>\n",
       "      <td>72</td>\n",
       "      <td>72</td>\n",
       "      <td>72</td>\n",
       "      <td>72</td>\n",
       "      <td>72</td>\n",
       "      <td>72</td>\n",
       "      <td>72</td>\n",
       "      <td>0</td>\n",
       "      <td>72</td>\n",
       "      <td>72</td>\n",
       "      <td>72</td>\n",
       "      <td>72</td>\n",
       "      <td>72</td>\n",
       "      <td>72</td>\n",
       "      <td>72</td>\n",
       "      <td>72</td>\n",
       "    </tr>\n",
       "  </tbody>\n",
       "</table>\n",
       "</div>"
      ],
      "text/plain": [
       "       Set ID  Sample Type  Name  Method Name  Description  Replicate ID  \\\n",
       "Date                                                                       \n",
       "06-09      71           71    71           71           71            71   \n",
       "06-30      72           72    72           72           72            72   \n",
       "08-04      72           72    72           72           72            72   \n",
       "09-23      72           72    72           72           72            72   \n",
       "\n",
       "       Mass  Comments  Operator  Tray ID   C   N  Block  IrrTrt  NTrt  IrrxN  \\\n",
       "Date                                                                           \n",
       "06-09    71        71         2       53  71  71     71      71    71     71   \n",
       "06-30    72        72         0       72  72  72     72      72    72     72   \n",
       "08-04    72        72         0       72  72  72     72      72    72     72   \n",
       "09-23    72        72         0       72  72  72     72      72    72     72   \n",
       "\n",
       "       Carbon  \n",
       "Date           \n",
       "06-09      71  \n",
       "06-30      72  \n",
       "08-04      72  \n",
       "09-23      72  "
      ]
     },
     "execution_count": 10,
     "metadata": {},
     "output_type": "execute_result"
    }
   ],
   "source": [
    "data_shoots.groupby(['Date']).count()"
   ]
  },
  {
   "cell_type": "code",
   "execution_count": 11,
   "id": "f7eb3570",
   "metadata": {},
   "outputs": [
    {
     "data": {
      "text/html": [
       "<div>\n",
       "<style scoped>\n",
       "    .dataframe tbody tr th:only-of-type {\n",
       "        vertical-align: middle;\n",
       "    }\n",
       "\n",
       "    .dataframe tbody tr th {\n",
       "        vertical-align: top;\n",
       "    }\n",
       "\n",
       "    .dataframe thead th {\n",
       "        text-align: right;\n",
       "    }\n",
       "</style>\n",
       "<table border=\"1\" class=\"dataframe\">\n",
       "  <thead>\n",
       "    <tr style=\"text-align: right;\">\n",
       "      <th></th>\n",
       "      <th>C</th>\n",
       "      <th>N</th>\n",
       "    </tr>\n",
       "  </thead>\n",
       "  <tbody>\n",
       "    <tr>\n",
       "      <th>count</th>\n",
       "      <td>287.000000</td>\n",
       "      <td>287.000000</td>\n",
       "    </tr>\n",
       "    <tr>\n",
       "      <th>mean</th>\n",
       "      <td>0.440774</td>\n",
       "      <td>0.017101</td>\n",
       "    </tr>\n",
       "    <tr>\n",
       "      <th>std</th>\n",
       "      <td>0.006662</td>\n",
       "      <td>0.011917</td>\n",
       "    </tr>\n",
       "    <tr>\n",
       "      <th>min</th>\n",
       "      <td>0.414000</td>\n",
       "      <td>0.002170</td>\n",
       "    </tr>\n",
       "    <tr>\n",
       "      <th>25%</th>\n",
       "      <td>0.436000</td>\n",
       "      <td>0.005235</td>\n",
       "    </tr>\n",
       "    <tr>\n",
       "      <th>50%</th>\n",
       "      <td>0.441000</td>\n",
       "      <td>0.012600</td>\n",
       "    </tr>\n",
       "    <tr>\n",
       "      <th>75%</th>\n",
       "      <td>0.445000</td>\n",
       "      <td>0.026850</td>\n",
       "    </tr>\n",
       "    <tr>\n",
       "      <th>max</th>\n",
       "      <td>0.475000</td>\n",
       "      <td>0.036800</td>\n",
       "    </tr>\n",
       "  </tbody>\n",
       "</table>\n",
       "</div>"
      ],
      "text/plain": [
       "                C           N\n",
       "count  287.000000  287.000000\n",
       "mean     0.440774    0.017101\n",
       "std      0.006662    0.011917\n",
       "min      0.414000    0.002170\n",
       "25%      0.436000    0.005235\n",
       "50%      0.441000    0.012600\n",
       "75%      0.445000    0.026850\n",
       "max      0.475000    0.036800"
      ]
     },
     "execution_count": 11,
     "metadata": {},
     "output_type": "execute_result"
    }
   ],
   "source": [
    "data_shoots[['C','N']].describe()"
   ]
  },
  {
   "cell_type": "code",
   "execution_count": 9,
   "id": "078161c9",
   "metadata": {},
   "outputs": [
    {
     "data": {
      "text/plain": [
       "<AxesSubplot:xlabel='C', ylabel='Count'>"
      ]
     },
     "execution_count": 9,
     "metadata": {},
     "output_type": "execute_result"
    },
    {
     "data": {
      "image/png": "[encoded data removed]",
      "text/plain": [
       "<Figure size 432x288 with 1 Axes>"
      ]
     },
     "metadata": {
      "needs_background": "light"
     },
     "output_type": "display_data"
    }
   ],
   "source": [
    "sns.histplot(data_leaves, x = 'C')"
   ]
  },
  {
   "cell_type": "code",
   "execution_count": 8,
   "id": "69bc7010",
   "metadata": {},
   "outputs": [
    {
     "name": "stderr",
     "output_type": "stream",
     "text": [
      "/home/bostevens/anaconda3/envs/py36/lib/python3.6/site-packages/ipykernel_launcher.py:1: SettingWithCopyWarning: \n",
      "A value is trying to be set on a copy of a slice from a DataFrame.\n",
      "Try using .loc[row_indexer,col_indexer] = value instead\n",
      "\n",
      "See the caveats in the documentation: https://pandas.pydata.org/pandas-docs/stable/user_guide/indexing.html#returning-a-view-versus-a-copy\n",
      "  \"\"\"Entry point for launching an IPython kernel.\n"
     ]
    },
    {
     "data": {
      "text/plain": [
       "<AxesSubplot:xlabel='N', ylabel='Count'>"
      ]
     },
     "execution_count": 8,
     "metadata": {},
     "output_type": "execute_result"
    },
    {
     "data": {
      "image/png": "[encoded data removed]",
      "text/plain": [
       "<Figure size 432x288 with 1 Axes>"
      ]
     },
     "metadata": {
      "needs_background": "light"
     },
     "output_type": "display_data"
    }
   ],
   "source": [
    "data_leaves['Nlog'] = np.log(data_leaves['N'])\n",
    "sns.histplot(data_leaves, x = 'N')"
   ]
  },
  {
   "cell_type": "code",
   "execution_count": 153,
   "id": "09859734",
   "metadata": {},
   "outputs": [
    {
     "name": "stdout",
     "output_type": "stream",
     "text": [
      "                 Anova\n",
      "========================================\n",
      "            F Value Num DF Den DF Pr > F\n",
      "----------------------------------------\n",
      "NTrt        12.7159 5.0000 5.0000 0.0072\n",
      "IrrTrt       2.3807 1.0000 1.0000 0.3661\n",
      "NTrt:IrrTrt  4.2239 5.0000 5.0000 0.0699\n",
      "========================================\n",
      "\n"
     ]
    }
   ],
   "source": [
    "model = AnovaRM(data_leaves, 'Carbon', 'Date', within = ['NTrt','IrrTrt'], aggregate_func='mean')\n",
    "results = model.fit()\n",
    "print(results)"
   ]
  },
  {
   "cell_type": "code",
   "execution_count": 155,
   "id": "98f0a47e",
   "metadata": {},
   "outputs": [
    {
     "name": "stdout",
     "output_type": "stream",
     "text": [
      "                 Anova\n",
      "========================================\n",
      "            F Value Num DF Den DF Pr > F\n",
      "----------------------------------------\n",
      "NTrt         7.1216 5.0000 5.0000 0.0252\n",
      "IrrTrt      15.5676 1.0000 1.0000 0.1580\n",
      "NTrt:IrrTrt  1.6782 5.0000 5.0000 0.2919\n",
      "========================================\n",
      "\n"
     ]
    }
   ],
   "source": [
    "model = AnovaRM(data_leaves, 'N', 'Date', within = ['NTrt','IrrTrt'], aggregate_func='mean')\n",
    "results = model.fit()\n",
    "print(results)"
   ]
  }
 ],
 "metadata": {
  "kernelspec": {
   "display_name": "Python 3",
   "language": "python",
   "name": "python3"
  },
  "language_info": {
   "codemirror_mode": {
    "name": "ipython",
    "version": 3
   },
   "file_extension": ".py",
   "mimetype": "text/x-python",
   "name": "python",
   "nbconvert_exporter": "python",
   "pygments_lexer": "ipython3",
   "version": "3.6.12"
  }
 },
 "nbformat": 4,
 "nbformat_minor": 5
}
