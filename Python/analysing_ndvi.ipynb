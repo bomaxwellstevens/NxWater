{
 "cells": [
  {
   "cell_type": "code",
   "execution_count": 1,
   "id": "378380d6",
   "metadata": {},
   "outputs": [],
   "source": [
    "import pandas as pd\n",
    "import numpy as np\n",
    "import seaborn as sns\n",
    "import scipy.stats\n",
    "import statsmodels.api as sm\n",
    "from statsmodels.formula.api import ols\n",
    "import matplotlib.pyplot as plt\n",
    "from scipy.stats import shapiro\n",
    "from statsmodels.stats.anova import AnovaRM\n",
    "import pylab\n",
    "import datetime"
   ]
  },
  {
   "cell_type": "code",
   "execution_count": 2,
   "id": "945b9c27",
   "metadata": {},
   "outputs": [
    {
     "name": "stdout",
     "output_type": "stream",
     "text": [
      "(36, 5)\n"
     ]
    },
    {
     "data": {
      "text/html": [
       "<div>\n",
       "<style scoped>\n",
       "    .dataframe tbody tr th:only-of-type {\n",
       "        vertical-align: middle;\n",
       "    }\n",
       "\n",
       "    .dataframe tbody tr th {\n",
       "        vertical-align: top;\n",
       "    }\n",
       "\n",
       "    .dataframe thead th {\n",
       "        text-align: right;\n",
       "    }\n",
       "</style>\n",
       "<table border=\"1\" class=\"dataframe\">\n",
       "  <thead>\n",
       "    <tr style=\"text-align: right;\">\n",
       "      <th></th>\n",
       "      <th>195</th>\n",
       "      <th>202</th>\n",
       "      <th>209</th>\n",
       "      <th>251</th>\n",
       "      <th>Plot</th>\n",
       "    </tr>\n",
       "    <tr>\n",
       "      <th>Field ID</th>\n",
       "      <th></th>\n",
       "      <th></th>\n",
       "      <th></th>\n",
       "      <th></th>\n",
       "      <th></th>\n",
       "    </tr>\n",
       "  </thead>\n",
       "  <tbody>\n",
       "    <tr>\n",
       "      <th>1</th>\n",
       "      <td>0.705796</td>\n",
       "      <td>0.745421</td>\n",
       "      <td>0.814882</td>\n",
       "      <td>0.756117</td>\n",
       "      <td>1</td>\n",
       "    </tr>\n",
       "    <tr>\n",
       "      <th>2</th>\n",
       "      <td>0.646746</td>\n",
       "      <td>0.709840</td>\n",
       "      <td>0.797777</td>\n",
       "      <td>0.739282</td>\n",
       "      <td>2</td>\n",
       "    </tr>\n",
       "    <tr>\n",
       "      <th>3</th>\n",
       "      <td>0.702501</td>\n",
       "      <td>0.770107</td>\n",
       "      <td>0.842404</td>\n",
       "      <td>0.817051</td>\n",
       "      <td>3</td>\n",
       "    </tr>\n",
       "    <tr>\n",
       "      <th>4</th>\n",
       "      <td>0.704468</td>\n",
       "      <td>0.800970</td>\n",
       "      <td>0.868706</td>\n",
       "      <td>0.841784</td>\n",
       "      <td>4</td>\n",
       "    </tr>\n",
       "    <tr>\n",
       "      <th>5</th>\n",
       "      <td>0.688989</td>\n",
       "      <td>0.792179</td>\n",
       "      <td>0.863945</td>\n",
       "      <td>0.802904</td>\n",
       "      <td>5</td>\n",
       "    </tr>\n",
       "  </tbody>\n",
       "</table>\n",
       "</div>"
      ],
      "text/plain": [
       "               195       202       209       251  Plot\n",
       "Field ID                                              \n",
       "1         0.705796  0.745421  0.814882  0.756117     1\n",
       "2         0.646746  0.709840  0.797777  0.739282     2\n",
       "3         0.702501  0.770107  0.842404  0.817051     3\n",
       "4         0.704468  0.800970  0.868706  0.841784     4\n",
       "5         0.688989  0.792179  0.863945  0.802904     5"
      ]
     },
     "execution_count": 2,
     "metadata": {},
     "output_type": "execute_result"
    }
   ],
   "source": [
    "ndvi = pd.read_csv('../Data/NDVI/NDVIM42021Buf2.csv', index_col=0)\n",
    "doy = [pd.to_datetime(x) for x in ndvi.columns]\n",
    "doy = [(x - datetime.datetime(2021, 1, 1)).days for x in doy]\n",
    "ndvi.columns = doy\n",
    "ndvi['Plot'] = ndvi.index\n",
    "print(ndvi.shape)\n",
    "ndvi.head()"
   ]
  },
  {
   "cell_type": "code",
   "execution_count": 3,
   "id": "2fb11406",
   "metadata": {},
   "outputs": [
    {
     "name": "stdout",
     "output_type": "stream",
     "text": [
      "(36, 7)\n"
     ]
    },
    {
     "data": {
      "text/html": [
       "<div>\n",
       "<style scoped>\n",
       "    .dataframe tbody tr th:only-of-type {\n",
       "        vertical-align: middle;\n",
       "    }\n",
       "\n",
       "    .dataframe tbody tr th {\n",
       "        vertical-align: top;\n",
       "    }\n",
       "\n",
       "    .dataframe thead th {\n",
       "        text-align: right;\n",
       "    }\n",
       "</style>\n",
       "<table border=\"1\" class=\"dataframe\">\n",
       "  <thead>\n",
       "    <tr style=\"text-align: right;\">\n",
       "      <th></th>\n",
       "      <th>ID</th>\n",
       "      <th>Plot</th>\n",
       "      <th>Nitrogen</th>\n",
       "      <th>Water</th>\n",
       "      <th>Block</th>\n",
       "      <th>Water rate (%ET)</th>\n",
       "      <th>Nrate (llbs/acre)</th>\n",
       "    </tr>\n",
       "  </thead>\n",
       "  <tbody>\n",
       "    <tr>\n",
       "      <th>1</th>\n",
       "      <td>114</td>\n",
       "      <td>1</td>\n",
       "      <td>4</td>\n",
       "      <td>1</td>\n",
       "      <td>1</td>\n",
       "      <td>100</td>\n",
       "      <td>155</td>\n",
       "    </tr>\n",
       "    <tr>\n",
       "      <th>2</th>\n",
       "      <td>111</td>\n",
       "      <td>2</td>\n",
       "      <td>1</td>\n",
       "      <td>1</td>\n",
       "      <td>1</td>\n",
       "      <td>100</td>\n",
       "      <td>20</td>\n",
       "    </tr>\n",
       "    <tr>\n",
       "      <th>3</th>\n",
       "      <td>115</td>\n",
       "      <td>3</td>\n",
       "      <td>5</td>\n",
       "      <td>1</td>\n",
       "      <td>1</td>\n",
       "      <td>100</td>\n",
       "      <td>200</td>\n",
       "    </tr>\n",
       "    <tr>\n",
       "      <th>4</th>\n",
       "      <td>113</td>\n",
       "      <td>4</td>\n",
       "      <td>3</td>\n",
       "      <td>1</td>\n",
       "      <td>1</td>\n",
       "      <td>100</td>\n",
       "      <td>110</td>\n",
       "    </tr>\n",
       "    <tr>\n",
       "      <th>5</th>\n",
       "      <td>112</td>\n",
       "      <td>5</td>\n",
       "      <td>2</td>\n",
       "      <td>1</td>\n",
       "      <td>1</td>\n",
       "      <td>100</td>\n",
       "      <td>65</td>\n",
       "    </tr>\n",
       "  </tbody>\n",
       "</table>\n",
       "</div>"
      ],
      "text/plain": [
       "    ID  Plot  Nitrogen  Water  Block  Water rate (%ET)  Nrate (llbs/acre)\n",
       "1  114     1         4      1      1               100                155\n",
       "2  111     2         1      1      1               100                 20\n",
       "3  115     3         5      1      1               100                200\n",
       "4  113     4         3      1      1               100                110\n",
       "5  112     5         2      1      1               100                 65"
      ]
     },
     "execution_count": 3,
     "metadata": {},
     "output_type": "execute_result"
    }
   ],
   "source": [
    "plot_key = pd.read_excel('../Data/ID and Plots.xlsx', engine='openpyxl')\n",
    "plot_key = plot_key[plot_key['Plot'].str.contains('N')].reset_index().drop('index', axis = 1)\n",
    "print(plot_key.shape)\n",
    "plot_key.index = [x[:-1] for x in plot_key['Plot']]\n",
    "plot_key['Plot'] = [int(x[:-1]) for x in plot_key['Plot']]\n",
    "plot_key.head()"
   ]
  },
  {
   "cell_type": "code",
   "execution_count": 4,
   "id": "89748fb3",
   "metadata": {},
   "outputs": [
    {
     "data": {
      "text/html": [
       "<div>\n",
       "<style scoped>\n",
       "    .dataframe tbody tr th:only-of-type {\n",
       "        vertical-align: middle;\n",
       "    }\n",
       "\n",
       "    .dataframe tbody tr th {\n",
       "        vertical-align: top;\n",
       "    }\n",
       "\n",
       "    .dataframe thead th {\n",
       "        text-align: right;\n",
       "    }\n",
       "</style>\n",
       "<table border=\"1\" class=\"dataframe\">\n",
       "  <thead>\n",
       "    <tr style=\"text-align: right;\">\n",
       "      <th></th>\n",
       "      <th>195</th>\n",
       "      <th>202</th>\n",
       "      <th>209</th>\n",
       "      <th>251</th>\n",
       "      <th>Plot</th>\n",
       "      <th>Nitrogen</th>\n",
       "      <th>Water</th>\n",
       "    </tr>\n",
       "  </thead>\n",
       "  <tbody>\n",
       "    <tr>\n",
       "      <th>0</th>\n",
       "      <td>0.705796</td>\n",
       "      <td>0.745421</td>\n",
       "      <td>0.814882</td>\n",
       "      <td>0.756117</td>\n",
       "      <td>1</td>\n",
       "      <td>4</td>\n",
       "      <td>1</td>\n",
       "    </tr>\n",
       "    <tr>\n",
       "      <th>1</th>\n",
       "      <td>0.646746</td>\n",
       "      <td>0.709840</td>\n",
       "      <td>0.797777</td>\n",
       "      <td>0.739282</td>\n",
       "      <td>2</td>\n",
       "      <td>1</td>\n",
       "      <td>1</td>\n",
       "    </tr>\n",
       "    <tr>\n",
       "      <th>2</th>\n",
       "      <td>0.702501</td>\n",
       "      <td>0.770107</td>\n",
       "      <td>0.842404</td>\n",
       "      <td>0.817051</td>\n",
       "      <td>3</td>\n",
       "      <td>5</td>\n",
       "      <td>1</td>\n",
       "    </tr>\n",
       "    <tr>\n",
       "      <th>3</th>\n",
       "      <td>0.704468</td>\n",
       "      <td>0.800970</td>\n",
       "      <td>0.868706</td>\n",
       "      <td>0.841784</td>\n",
       "      <td>4</td>\n",
       "      <td>3</td>\n",
       "      <td>1</td>\n",
       "    </tr>\n",
       "    <tr>\n",
       "      <th>4</th>\n",
       "      <td>0.688989</td>\n",
       "      <td>0.792179</td>\n",
       "      <td>0.863945</td>\n",
       "      <td>0.802904</td>\n",
       "      <td>5</td>\n",
       "      <td>2</td>\n",
       "      <td>1</td>\n",
       "    </tr>\n",
       "  </tbody>\n",
       "</table>\n",
       "</div>"
      ],
      "text/plain": [
       "        195       202       209       251  Plot  Nitrogen  Water\n",
       "0  0.705796  0.745421  0.814882  0.756117     1         4      1\n",
       "1  0.646746  0.709840  0.797777  0.739282     2         1      1\n",
       "2  0.702501  0.770107  0.842404  0.817051     3         5      1\n",
       "3  0.704468  0.800970  0.868706  0.841784     4         3      1\n",
       "4  0.688989  0.792179  0.863945  0.802904     5         2      1"
      ]
     },
     "execution_count": 4,
     "metadata": {},
     "output_type": "execute_result"
    }
   ],
   "source": [
    "full_df = pd.merge(ndvi, plot_key, on = 'Plot')\n",
    "full_df_complex = full_df.drop(['ID','Block','Water','Nitrogen'], axis =1)\n",
    "full_df_simple = full_df.drop(['ID','Block','Water rate (%ET)','Nrate (llbs/acre)'], axis =1)\n",
    "full_df_simple.head()"
   ]
  },
  {
   "cell_type": "code",
   "execution_count": 5,
   "id": "fa02de75",
   "metadata": {},
   "outputs": [
    {
     "data": {
      "text/html": [
       "<div>\n",
       "<style scoped>\n",
       "    .dataframe tbody tr th:only-of-type {\n",
       "        vertical-align: middle;\n",
       "    }\n",
       "\n",
       "    .dataframe tbody tr th {\n",
       "        vertical-align: top;\n",
       "    }\n",
       "\n",
       "    .dataframe thead th {\n",
       "        text-align: right;\n",
       "    }\n",
       "</style>\n",
       "<table border=\"1\" class=\"dataframe\">\n",
       "  <thead>\n",
       "    <tr style=\"text-align: right;\">\n",
       "      <th></th>\n",
       "      <th>Plot</th>\n",
       "      <th>Water</th>\n",
       "      <th>Nitrogen</th>\n",
       "      <th>DOY</th>\n",
       "      <th>NDVI</th>\n",
       "      <th>NDVI_log</th>\n",
       "    </tr>\n",
       "  </thead>\n",
       "  <tbody>\n",
       "    <tr>\n",
       "      <th>0</th>\n",
       "      <td>1</td>\n",
       "      <td>1</td>\n",
       "      <td>4</td>\n",
       "      <td>195</td>\n",
       "      <td>0.705796</td>\n",
       "      <td>-0.348428</td>\n",
       "    </tr>\n",
       "    <tr>\n",
       "      <th>1</th>\n",
       "      <td>2</td>\n",
       "      <td>1</td>\n",
       "      <td>1</td>\n",
       "      <td>195</td>\n",
       "      <td>0.646746</td>\n",
       "      <td>-0.435801</td>\n",
       "    </tr>\n",
       "    <tr>\n",
       "      <th>2</th>\n",
       "      <td>3</td>\n",
       "      <td>1</td>\n",
       "      <td>5</td>\n",
       "      <td>195</td>\n",
       "      <td>0.702501</td>\n",
       "      <td>-0.353109</td>\n",
       "    </tr>\n",
       "    <tr>\n",
       "      <th>3</th>\n",
       "      <td>4</td>\n",
       "      <td>1</td>\n",
       "      <td>3</td>\n",
       "      <td>195</td>\n",
       "      <td>0.704468</td>\n",
       "      <td>-0.350313</td>\n",
       "    </tr>\n",
       "    <tr>\n",
       "      <th>4</th>\n",
       "      <td>5</td>\n",
       "      <td>1</td>\n",
       "      <td>2</td>\n",
       "      <td>195</td>\n",
       "      <td>0.688989</td>\n",
       "      <td>-0.372530</td>\n",
       "    </tr>\n",
       "  </tbody>\n",
       "</table>\n",
       "</div>"
      ],
      "text/plain": [
       "   Plot  Water  Nitrogen  DOY      NDVI  NDVI_log\n",
       "0     1      1         4  195  0.705796 -0.348428\n",
       "1     2      1         1  195  0.646746 -0.435801\n",
       "2     3      1         5  195  0.702501 -0.353109\n",
       "3     4      1         3  195  0.704468 -0.350313\n",
       "4     5      1         2  195  0.688989 -0.372530"
      ]
     },
     "execution_count": 5,
     "metadata": {},
     "output_type": "execute_result"
    }
   ],
   "source": [
    "full_df_melted = full_df_simple.melt(value_vars = [195,202,209,251], id_vars = ['Plot','Water','Nitrogen'])\n",
    "full_df_melted_complex = full_df_complex.melt(value_vars = [195,202,209,251], id_vars = ['Plot','Water rate (%ET)','Nrate (llbs/acre)'])\n",
    "full_df_melted.columns = ['Plot','Water','Nitrogen','DOY','NDVI']\n",
    "full_df_melted_complex.columns = ['Plot','Water rate (%ET)','Nrate (llbs/acre)','DOY','NDVI']\n",
    "full_df_melted['NDVI_log'] = np.log(full_df_melted['NDVI'])\n",
    "full_df_melted.head()"
   ]
  },
  {
   "cell_type": "code",
   "execution_count": 6,
   "id": "020faac7",
   "metadata": {},
   "outputs": [
    {
     "name": "stdout",
     "output_type": "stream",
     "text": [
      "Statistics=0.967, p=0.002\n",
      "Sample does not look Gaussian (reject H0)\n"
     ]
    }
   ],
   "source": [
    "# normality test\n",
    "# Plot residuals\n",
    "stat, p = shapiro(full_df_melted['NDVI'])\n",
    "print('Statistics=%.3f, p=%.3f' % (stat, p))\n",
    "# interpret\n",
    "alpha = 0.05\n",
    "if p > alpha:\n",
    "    print('Sample looks Gaussian (fail to reject H0)')\n",
    "else:\n",
    "    print('Sample does not look Gaussian (reject H0)')"
   ]
  },
  {
   "cell_type": "code",
   "execution_count": 7,
   "id": "972bd170",
   "metadata": {},
   "outputs": [
    {
     "data": {
      "text/plain": [
       "<AxesSubplot:xlabel='NDVI', ylabel='Count'>"
      ]
     },
     "execution_count": 7,
     "metadata": {},
     "output_type": "execute_result"
    },
    {
     "data": {
      "image/png": "[encoded data removed]",
      "text/plain": [
       "<Figure size 432x288 with 1 Axes>"
      ]
     },
     "metadata": {
      "needs_background": "light"
     },
     "output_type": "display_data"
    }
   ],
   "source": [
    "sns.histplot(full_df_melted['NDVI'])"
   ]
  },
  {
   "cell_type": "code",
   "execution_count": 8,
   "id": "9dc912c7",
   "metadata": {},
   "outputs": [
    {
     "name": "stdout",
     "output_type": "stream",
     "text": [
      "                   Anova\n",
      "============================================\n",
      "               F Value Num DF  Den DF Pr > F\n",
      "--------------------------------------------\n",
      "Nitrogen       85.6669 5.0000 15.0000 0.0000\n",
      "Water          19.0278 1.0000  3.0000 0.0223\n",
      "Nitrogen:Water  5.9242 5.0000 15.0000 0.0032\n",
      "============================================\n",
      "\n"
     ]
    }
   ],
   "source": [
    "model = AnovaRM(full_df_melted, 'NDVI', 'DOY', within = ['Nitrogen','Water'], aggregate_func='mean')\n",
    "results = model.fit()\n",
    "print(results)"
   ]
  },
  {
   "cell_type": "code",
   "execution_count": 9,
   "id": "2b2d8271",
   "metadata": {},
   "outputs": [
    {
     "data": {
      "text/html": [
       "<div>\n",
       "<style scoped>\n",
       "    .dataframe tbody tr th:only-of-type {\n",
       "        vertical-align: middle;\n",
       "    }\n",
       "\n",
       "    .dataframe tbody tr th {\n",
       "        vertical-align: top;\n",
       "    }\n",
       "\n",
       "    .dataframe thead th {\n",
       "        text-align: right;\n",
       "    }\n",
       "</style>\n",
       "<table border=\"1\" class=\"dataframe\">\n",
       "  <thead>\n",
       "    <tr style=\"text-align: right;\">\n",
       "      <th></th>\n",
       "      <th>Plot</th>\n",
       "      <th>Water rate (%ET)</th>\n",
       "      <th>Nrate (llbs/acre)</th>\n",
       "      <th>DOY</th>\n",
       "      <th>NDVI</th>\n",
       "    </tr>\n",
       "  </thead>\n",
       "  <tbody>\n",
       "    <tr>\n",
       "      <th>0</th>\n",
       "      <td>1</td>\n",
       "      <td>100</td>\n",
       "      <td>155</td>\n",
       "      <td>195</td>\n",
       "      <td>0.705796</td>\n",
       "    </tr>\n",
       "    <tr>\n",
       "      <th>1</th>\n",
       "      <td>2</td>\n",
       "      <td>100</td>\n",
       "      <td>20</td>\n",
       "      <td>195</td>\n",
       "      <td>0.646746</td>\n",
       "    </tr>\n",
       "    <tr>\n",
       "      <th>2</th>\n",
       "      <td>3</td>\n",
       "      <td>100</td>\n",
       "      <td>200</td>\n",
       "      <td>195</td>\n",
       "      <td>0.702501</td>\n",
       "    </tr>\n",
       "    <tr>\n",
       "      <th>3</th>\n",
       "      <td>4</td>\n",
       "      <td>100</td>\n",
       "      <td>110</td>\n",
       "      <td>195</td>\n",
       "      <td>0.704468</td>\n",
       "    </tr>\n",
       "    <tr>\n",
       "      <th>4</th>\n",
       "      <td>5</td>\n",
       "      <td>100</td>\n",
       "      <td>65</td>\n",
       "      <td>195</td>\n",
       "      <td>0.688989</td>\n",
       "    </tr>\n",
       "  </tbody>\n",
       "</table>\n",
       "</div>"
      ],
      "text/plain": [
       "   Plot  Water rate (%ET)  Nrate (llbs/acre)  DOY      NDVI\n",
       "0     1               100                155  195  0.705796\n",
       "1     2               100                 20  195  0.646746\n",
       "2     3               100                200  195  0.702501\n",
       "3     4               100                110  195  0.704468\n",
       "4     5               100                 65  195  0.688989"
      ]
     },
     "execution_count": 9,
     "metadata": {},
     "output_type": "execute_result"
    }
   ],
   "source": [
    "full_df_melted_complex.head()"
   ]
  },
  {
   "cell_type": "code",
   "execution_count": 10,
   "id": "88199ac7",
   "metadata": {},
   "outputs": [
    {
     "data": {
      "text/plain": [
       "<AxesSubplot:xlabel='Nrate (llbs/acre)', ylabel='NDVI'>"
      ]
     },
     "execution_count": 10,
     "metadata": {},
     "output_type": "execute_result"
    },
    {
     "data": {
      "image/png": "[encoded data removed]",
      "text/plain": [
       "<Figure size 864x432 with 2 Axes>"
      ]
     },
     "metadata": {
      "needs_background": "light"
     },
     "output_type": "display_data"
    }
   ],
   "source": [
    "fig, axes = plt.subplots(1, 2, figsize=(12,6), sharey=True)\n",
    "sns.boxplot(y = 'NDVI', x = 'Nrate (llbs/acre)', hue = 'DOY', \n",
    "            data = full_df_melted_complex[full_df_melted_complex['Water rate (%ET)'] == 70], ax = axes[0])\n",
    "sns.boxplot(y = 'NDVI', x = 'Nrate (llbs/acre)', hue = 'DOY', \n",
    "            data = full_df_melted_complex[full_df_melted_complex['Water rate (%ET)'] == 100], ax = axes[1])"
   ]
  }
 ],
 "metadata": {
  "kernelspec": {
   "display_name": "Python 3",
   "language": "python",
   "name": "python3"
  },
  "language_info": {
   "codemirror_mode": {
    "name": "ipython",
    "version": 3
   },
   "file_extension": ".py",
   "mimetype": "text/x-python",
   "name": "python",
   "nbconvert_exporter": "python",
   "pygments_lexer": "ipython3",
   "version": "3.6.12"
  }
 },
 "nbformat": 4,
 "nbformat_minor": 5
}
