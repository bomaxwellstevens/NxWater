{
 "cells": [
  {
   "cell_type": "code",
   "execution_count": 11,
   "id": "19d5a9b7",
   "metadata": {},
   "outputs": [],
   "source": [
    "import pandas as pd\n",
    "import numpy as np\n",
    "import seaborn as sns\n",
    "import scipy.stats"
   ]
  },
  {
   "cell_type": "code",
   "execution_count": 28,
   "id": "a9707412",
   "metadata": {},
   "outputs": [
    {
     "data": {
      "text/html": [
       "<div>\n",
       "<style scoped>\n",
       "    .dataframe tbody tr th:only-of-type {\n",
       "        vertical-align: middle;\n",
       "    }\n",
       "\n",
       "    .dataframe tbody tr th {\n",
       "        vertical-align: top;\n",
       "    }\n",
       "\n",
       "    .dataframe thead th {\n",
       "        text-align: right;\n",
       "    }\n",
       "</style>\n",
       "<table border=\"1\" class=\"dataframe\">\n",
       "  <thead>\n",
       "    <tr style=\"text-align: right;\">\n",
       "      <th></th>\n",
       "      <th>Sample</th>\n",
       "      <th>Depth</th>\n",
       "      <th>Date</th>\n",
       "      <th>Bulk density</th>\n",
       "      <th>Water</th>\n",
       "      <th>Nitrogen</th>\n",
       "    </tr>\n",
       "  </thead>\n",
       "  <tbody>\n",
       "    <tr>\n",
       "      <th>0</th>\n",
       "      <td>114</td>\n",
       "      <td>7.00</td>\n",
       "      <td>2022</td>\n",
       "      <td>1.621383</td>\n",
       "      <td>1</td>\n",
       "      <td>4</td>\n",
       "    </tr>\n",
       "    <tr>\n",
       "      <th>1</th>\n",
       "      <td>114</td>\n",
       "      <td>22.00</td>\n",
       "      <td>2022</td>\n",
       "      <td>1.538319</td>\n",
       "      <td>1</td>\n",
       "      <td>4</td>\n",
       "    </tr>\n",
       "    <tr>\n",
       "      <th>2</th>\n",
       "      <td>114</td>\n",
       "      <td>60.00</td>\n",
       "      <td>2022</td>\n",
       "      <td>1.294292</td>\n",
       "      <td>1</td>\n",
       "      <td>4</td>\n",
       "    </tr>\n",
       "    <tr>\n",
       "      <th>3</th>\n",
       "      <td>114</td>\n",
       "      <td>105.00</td>\n",
       "      <td>2022</td>\n",
       "      <td>1.326496</td>\n",
       "      <td>1</td>\n",
       "      <td>4</td>\n",
       "    </tr>\n",
       "    <tr>\n",
       "      <th>4</th>\n",
       "      <td>221</td>\n",
       "      <td>7.00</td>\n",
       "      <td>2022</td>\n",
       "      <td>1.521712</td>\n",
       "      <td>2</td>\n",
       "      <td>1</td>\n",
       "    </tr>\n",
       "    <tr>\n",
       "      <th>5</th>\n",
       "      <td>221</td>\n",
       "      <td>22.00</td>\n",
       "      <td>2022</td>\n",
       "      <td>1.332329</td>\n",
       "      <td>2</td>\n",
       "      <td>1</td>\n",
       "    </tr>\n",
       "    <tr>\n",
       "      <th>6</th>\n",
       "      <td>221</td>\n",
       "      <td>60.00</td>\n",
       "      <td>2022</td>\n",
       "      <td>1.213458</td>\n",
       "      <td>2</td>\n",
       "      <td>1</td>\n",
       "    </tr>\n",
       "    <tr>\n",
       "      <th>7</th>\n",
       "      <td>221</td>\n",
       "      <td>105.00</td>\n",
       "      <td>2022</td>\n",
       "      <td>1.293510</td>\n",
       "      <td>2</td>\n",
       "      <td>1</td>\n",
       "    </tr>\n",
       "    <tr>\n",
       "      <th>8</th>\n",
       "      <td>116</td>\n",
       "      <td>15.24</td>\n",
       "      <td>2021</td>\n",
       "      <td>1.331830</td>\n",
       "      <td>1</td>\n",
       "      <td>6</td>\n",
       "    </tr>\n",
       "    <tr>\n",
       "      <th>9</th>\n",
       "      <td>116</td>\n",
       "      <td>45.72</td>\n",
       "      <td>2021</td>\n",
       "      <td>1.139133</td>\n",
       "      <td>1</td>\n",
       "      <td>6</td>\n",
       "    </tr>\n",
       "    <tr>\n",
       "      <th>10</th>\n",
       "      <td>116</td>\n",
       "      <td>76.20</td>\n",
       "      <td>2021</td>\n",
       "      <td>1.361705</td>\n",
       "      <td>1</td>\n",
       "      <td>6</td>\n",
       "    </tr>\n",
       "    <tr>\n",
       "      <th>11</th>\n",
       "      <td>212</td>\n",
       "      <td>15.24</td>\n",
       "      <td>2021</td>\n",
       "      <td>1.372028</td>\n",
       "      <td>1</td>\n",
       "      <td>2</td>\n",
       "    </tr>\n",
       "    <tr>\n",
       "      <th>12</th>\n",
       "      <td>212</td>\n",
       "      <td>45.72</td>\n",
       "      <td>2021</td>\n",
       "      <td>1.349493</td>\n",
       "      <td>1</td>\n",
       "      <td>2</td>\n",
       "    </tr>\n",
       "    <tr>\n",
       "      <th>13</th>\n",
       "      <td>212</td>\n",
       "      <td>76.20</td>\n",
       "      <td>2021</td>\n",
       "      <td>1.297107</td>\n",
       "      <td>1</td>\n",
       "      <td>2</td>\n",
       "    </tr>\n",
       "    <tr>\n",
       "      <th>14</th>\n",
       "      <td>315</td>\n",
       "      <td>15.24</td>\n",
       "      <td>2021</td>\n",
       "      <td>1.334959</td>\n",
       "      <td>1</td>\n",
       "      <td>5</td>\n",
       "    </tr>\n",
       "    <tr>\n",
       "      <th>15</th>\n",
       "      <td>315</td>\n",
       "      <td>45.72</td>\n",
       "      <td>2021</td>\n",
       "      <td>1.210178</td>\n",
       "      <td>1</td>\n",
       "      <td>5</td>\n",
       "    </tr>\n",
       "    <tr>\n",
       "      <th>16</th>\n",
       "      <td>315</td>\n",
       "      <td>76.20</td>\n",
       "      <td>2021</td>\n",
       "      <td>1.362956</td>\n",
       "      <td>1</td>\n",
       "      <td>5</td>\n",
       "    </tr>\n",
       "    <tr>\n",
       "      <th>17</th>\n",
       "      <td>313</td>\n",
       "      <td>15.24</td>\n",
       "      <td>2021</td>\n",
       "      <td>1.552681</td>\n",
       "      <td>1</td>\n",
       "      <td>3</td>\n",
       "    </tr>\n",
       "    <tr>\n",
       "      <th>18</th>\n",
       "      <td>313</td>\n",
       "      <td>45.72</td>\n",
       "      <td>2021</td>\n",
       "      <td>1.241007</td>\n",
       "      <td>1</td>\n",
       "      <td>3</td>\n",
       "    </tr>\n",
       "    <tr>\n",
       "      <th>19</th>\n",
       "      <td>313</td>\n",
       "      <td>76.20</td>\n",
       "      <td>2021</td>\n",
       "      <td>1.157903</td>\n",
       "      <td>1</td>\n",
       "      <td>3</td>\n",
       "    </tr>\n",
       "    <tr>\n",
       "      <th>20</th>\n",
       "      <td>216</td>\n",
       "      <td>15.24</td>\n",
       "      <td>2021</td>\n",
       "      <td>1.573465</td>\n",
       "      <td>1</td>\n",
       "      <td>6</td>\n",
       "    </tr>\n",
       "    <tr>\n",
       "      <th>21</th>\n",
       "      <td>216</td>\n",
       "      <td>45.72</td>\n",
       "      <td>2021</td>\n",
       "      <td>1.300861</td>\n",
       "      <td>1</td>\n",
       "      <td>6</td>\n",
       "    </tr>\n",
       "    <tr>\n",
       "      <th>22</th>\n",
       "      <td>216</td>\n",
       "      <td>76.20</td>\n",
       "      <td>2021</td>\n",
       "      <td>1.320427</td>\n",
       "      <td>1</td>\n",
       "      <td>6</td>\n",
       "    </tr>\n",
       "    <tr>\n",
       "      <th>23</th>\n",
       "      <td>113</td>\n",
       "      <td>15.24</td>\n",
       "      <td>2021</td>\n",
       "      <td>1.335732</td>\n",
       "      <td>1</td>\n",
       "      <td>3</td>\n",
       "    </tr>\n",
       "    <tr>\n",
       "      <th>24</th>\n",
       "      <td>113</td>\n",
       "      <td>45.72</td>\n",
       "      <td>2021</td>\n",
       "      <td>1.380989</td>\n",
       "      <td>1</td>\n",
       "      <td>3</td>\n",
       "    </tr>\n",
       "    <tr>\n",
       "      <th>25</th>\n",
       "      <td>113</td>\n",
       "      <td>76.20</td>\n",
       "      <td>2021</td>\n",
       "      <td>1.330736</td>\n",
       "      <td>1</td>\n",
       "      <td>3</td>\n",
       "    </tr>\n",
       "  </tbody>\n",
       "</table>\n",
       "</div>"
      ],
      "text/plain": [
       "    Sample   Depth  Date  Bulk density Water Nitrogen\n",
       "0      114    7.00  2022      1.621383     1        4\n",
       "1      114   22.00  2022      1.538319     1        4\n",
       "2      114   60.00  2022      1.294292     1        4\n",
       "3      114  105.00  2022      1.326496     1        4\n",
       "4      221    7.00  2022      1.521712     2        1\n",
       "5      221   22.00  2022      1.332329     2        1\n",
       "6      221   60.00  2022      1.213458     2        1\n",
       "7      221  105.00  2022      1.293510     2        1\n",
       "8      116   15.24  2021      1.331830     1        6\n",
       "9      116   45.72  2021      1.139133     1        6\n",
       "10     116   76.20  2021      1.361705     1        6\n",
       "11     212   15.24  2021      1.372028     1        2\n",
       "12     212   45.72  2021      1.349493     1        2\n",
       "13     212   76.20  2021      1.297107     1        2\n",
       "14     315   15.24  2021      1.334959     1        5\n",
       "15     315   45.72  2021      1.210178     1        5\n",
       "16     315   76.20  2021      1.362956     1        5\n",
       "17     313   15.24  2021      1.552681     1        3\n",
       "18     313   45.72  2021      1.241007     1        3\n",
       "19     313   76.20  2021      1.157903     1        3\n",
       "20     216   15.24  2021      1.573465     1        6\n",
       "21     216   45.72  2021      1.300861     1        6\n",
       "22     216   76.20  2021      1.320427     1        6\n",
       "23     113   15.24  2021      1.335732     1        3\n",
       "24     113   45.72  2021      1.380989     1        3\n",
       "25     113   76.20  2021      1.330736     1        3"
      ]
     },
     "execution_count": 28,
     "metadata": {},
     "output_type": "execute_result"
    }
   ],
   "source": [
    "bd = pd.read_csv('../Data/Bulk density/All_bulk_densities.csv')\n",
    "bd['Water'] = [str(x)[1] for x in bd['Sample']]\n",
    "bd['Nitrogen'] = [str(x)[2] for x in bd['Sample']]\n",
    "bd_top = bd[bd['Depth'] < 16]\n",
    "bd_mid = bd[bd['Depth'] == 76.20]\n",
    "bd"
   ]
  },
  {
   "cell_type": "code",
   "execution_count": 9,
   "id": "b9ab5584",
   "metadata": {},
   "outputs": [
    {
     "data": {
      "text/html": [
       "<div>\n",
       "<style scoped>\n",
       "    .dataframe tbody tr th:only-of-type {\n",
       "        vertical-align: middle;\n",
       "    }\n",
       "\n",
       "    .dataframe tbody tr th {\n",
       "        vertical-align: top;\n",
       "    }\n",
       "\n",
       "    .dataframe thead th {\n",
       "        text-align: right;\n",
       "    }\n",
       "</style>\n",
       "<table border=\"1\" class=\"dataframe\">\n",
       "  <thead>\n",
       "    <tr style=\"text-align: right;\">\n",
       "      <th></th>\n",
       "      <th>Sample</th>\n",
       "      <th>Depth</th>\n",
       "      <th>Date</th>\n",
       "      <th>Bulk density</th>\n",
       "    </tr>\n",
       "    <tr>\n",
       "      <th>Water</th>\n",
       "      <th></th>\n",
       "      <th></th>\n",
       "      <th></th>\n",
       "      <th></th>\n",
       "    </tr>\n",
       "  </thead>\n",
       "  <tbody>\n",
       "    <tr>\n",
       "      <th>1</th>\n",
       "      <td>195.954545</td>\n",
       "      <td>46.225455</td>\n",
       "      <td>2021.181818</td>\n",
       "      <td>1.351531</td>\n",
       "    </tr>\n",
       "    <tr>\n",
       "      <th>2</th>\n",
       "      <td>221.000000</td>\n",
       "      <td>48.500000</td>\n",
       "      <td>2022.000000</td>\n",
       "      <td>1.340252</td>\n",
       "    </tr>\n",
       "  </tbody>\n",
       "</table>\n",
       "</div>"
      ],
      "text/plain": [
       "           Sample      Depth         Date  Bulk density\n",
       "Water                                                  \n",
       "1      195.954545  46.225455  2021.181818      1.351531\n",
       "2      221.000000  48.500000  2022.000000      1.340252"
      ]
     },
     "execution_count": 9,
     "metadata": {},
     "output_type": "execute_result"
    }
   ],
   "source": [
    "bd.groupby('Water').mean()"
   ]
  },
  {
   "cell_type": "code",
   "execution_count": 23,
   "id": "4b5487a5",
   "metadata": {},
   "outputs": [],
   "source": [
    "def mean_confidence_interval(data, confidence=0.95):\n",
    "    a = 1.0 * np.array(data)\n",
    "    n = len(a)\n",
    "    m, se = np.mean(a), scipy.stats.sem(a)\n",
    "    h = se * scipy.stats.t.ppf((1 + confidence) / 2., n-1)\n",
    "    return round(m, 2), round(m-h, 2), round(m+h, 2)"
   ]
  },
  {
   "cell_type": "code",
   "execution_count": 25,
   "id": "9fc59576",
   "metadata": {},
   "outputs": [
    {
     "data": {
      "text/plain": [
       "(1.35, 1.3, 1.41)"
      ]
     },
     "execution_count": 25,
     "metadata": {},
     "output_type": "execute_result"
    }
   ],
   "source": [
    "mean_confidence_interval(bd[bd['Water'] == '1']['Bulk density'].values)"
   ]
  },
  {
   "cell_type": "code",
   "execution_count": 26,
   "id": "5cbbd0bd",
   "metadata": {},
   "outputs": [
    {
     "data": {
      "text/plain": [
       "(1.34, 1.13, 1.55)"
      ]
     },
     "execution_count": 26,
     "metadata": {},
     "output_type": "execute_result"
    }
   ],
   "source": [
    "mean_confidence_interval(bd[bd['Water'] == '2']['Bulk density'].values)"
   ]
  },
  {
   "cell_type": "code",
   "execution_count": 27,
   "id": "9a0ebc90",
   "metadata": {},
   "outputs": [
    {
     "data": {
      "text/plain": [
       "(1.45, 1.33, 1.57)"
      ]
     },
     "execution_count": 27,
     "metadata": {},
     "output_type": "execute_result"
    }
   ],
   "source": [
    "mean_confidence_interval(bd_top[bd_top['Water'] == '1']['Bulk density'].values)"
   ]
  },
  {
   "cell_type": "code",
   "execution_count": 29,
   "id": "77dbc119",
   "metadata": {},
   "outputs": [
    {
     "data": {
      "text/plain": [
       "(1.31, 1.22, 1.39)"
      ]
     },
     "execution_count": 29,
     "metadata": {},
     "output_type": "execute_result"
    }
   ],
   "source": [
    "mean_confidence_interval(bd_mid[bd_mid['Water'] == '1']['Bulk density'].values)"
   ]
  },
  {
   "cell_type": "code",
   "execution_count": 30,
   "id": "7cad7c2d",
   "metadata": {},
   "outputs": [
    {
     "data": {
      "text/plain": [
       "<AxesSubplot:xlabel='Depth', ylabel='Bulk density'>"
      ]
     },
     "execution_count": 30,
     "metadata": {},
     "output_type": "execute_result"
    },
    {
     "data": {
      "image/png": "[encoded data removed]",
      "text/plain": [
       "<Figure size 432x288 with 1 Axes>"
      ]
     },
     "metadata": {
      "needs_background": "light"
     },
     "output_type": "display_data"
    }
   ],
   "source": [
    "sns.scatterplot(x = 'Depth', y = 'Bulk density', hue = 'Water', data = bd)"
   ]
  }
 ],
 "metadata": {
  "kernelspec": {
   "display_name": "Python 3",
   "language": "python",
   "name": "python3"
  },
  "language_info": {
   "codemirror_mode": {
    "name": "ipython",
    "version": 3
   },
   "file_extension": ".py",
   "mimetype": "text/x-python",
   "name": "python",
   "nbconvert_exporter": "python",
   "pygments_lexer": "ipython3",
   "version": "3.6.12"
  }
 },
 "nbformat": 4,
 "nbformat_minor": 5
}
