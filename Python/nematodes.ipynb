{
 "cells": [
  {
   "cell_type": "code",
   "execution_count": 14,
   "id": "2e85577f",
   "metadata": {},
   "outputs": [],
   "source": [
    "import pandas as pd\n",
    "import seaborn as sns\n",
    "import statsmodels.api as sm\n",
    "from statsmodels.formula.api import ols"
   ]
  },
  {
   "cell_type": "code",
   "execution_count": 15,
   "id": "801118be",
   "metadata": {},
   "outputs": [
    {
     "data": {
      "text/html": [
       "<div>\n",
       "<style scoped>\n",
       "    .dataframe tbody tr th:only-of-type {\n",
       "        vertical-align: middle;\n",
       "    }\n",
       "\n",
       "    .dataframe tbody tr th {\n",
       "        vertical-align: top;\n",
       "    }\n",
       "\n",
       "    .dataframe thead th {\n",
       "        text-align: right;\n",
       "    }\n",
       "</style>\n",
       "<table border=\"1\" class=\"dataframe\">\n",
       "  <thead>\n",
       "    <tr style=\"text-align: right;\">\n",
       "      <th></th>\n",
       "      <th>Sample</th>\n",
       "      <th>Nitrogen</th>\n",
       "      <th>Water</th>\n",
       "      <th>Sample code</th>\n",
       "      <th>Nemas in subsample</th>\n",
       "      <th>Total nemas in 40 cc soil sample</th>\n",
       "      <th>Soil plus tube weight</th>\n",
       "      <th>Tube weight</th>\n",
       "      <th>Soil wet weight</th>\n",
       "      <th>Nematodes/g wet soil</th>\n",
       "      <th>Nematodes/g dry soil</th>\n",
       "      <th>Nematode_count</th>\n",
       "    </tr>\n",
       "  </thead>\n",
       "  <tbody>\n",
       "    <tr>\n",
       "      <th>0</th>\n",
       "      <td>N x Water</td>\n",
       "      <td>NaN</td>\n",
       "      <td>NaN</td>\n",
       "      <td>A</td>\n",
       "      <td>167</td>\n",
       "      <td>835</td>\n",
       "      <td>52.328333</td>\n",
       "      <td>13.599</td>\n",
       "      <td>38.729333</td>\n",
       "      <td>21.559886</td>\n",
       "      <td>Multiply nemas per g wet soil by (1 - soil wat...</td>\n",
       "      <td>21.559886</td>\n",
       "    </tr>\n",
       "    <tr>\n",
       "      <th>1</th>\n",
       "      <td>N1-311 #32</td>\n",
       "      <td>1.0</td>\n",
       "      <td>1.0</td>\n",
       "      <td>B</td>\n",
       "      <td>153</td>\n",
       "      <td>765</td>\n",
       "      <td>48.501000</td>\n",
       "      <td>13.590</td>\n",
       "      <td>34.911000</td>\n",
       "      <td>21.912864</td>\n",
       "      <td>NaN</td>\n",
       "      <td>21.912864</td>\n",
       "    </tr>\n",
       "    <tr>\n",
       "      <th>2</th>\n",
       "      <td>N1-121 Plot 8</td>\n",
       "      <td>1.0</td>\n",
       "      <td>2.0</td>\n",
       "      <td>C</td>\n",
       "      <td>151</td>\n",
       "      <td>755</td>\n",
       "      <td>54.656000</td>\n",
       "      <td>13.767</td>\n",
       "      <td>40.889000</td>\n",
       "      <td>18.464624</td>\n",
       "      <td>NaN</td>\n",
       "      <td>18.464624</td>\n",
       "    </tr>\n",
       "    <tr>\n",
       "      <th>3</th>\n",
       "      <td>N5-225 #15</td>\n",
       "      <td>5.0</td>\n",
       "      <td>2.0</td>\n",
       "      <td>D</td>\n",
       "      <td>303</td>\n",
       "      <td>1515</td>\n",
       "      <td>56.995000</td>\n",
       "      <td>13.744</td>\n",
       "      <td>43.251000</td>\n",
       "      <td>35.028092</td>\n",
       "      <td>NaN</td>\n",
       "      <td>35.028092</td>\n",
       "    </tr>\n",
       "    <tr>\n",
       "      <th>4</th>\n",
       "      <td>N5-325 #28</td>\n",
       "      <td>5.0</td>\n",
       "      <td>2.0</td>\n",
       "      <td>E</td>\n",
       "      <td>236</td>\n",
       "      <td>1180</td>\n",
       "      <td>51.760000</td>\n",
       "      <td>13.695</td>\n",
       "      <td>38.065000</td>\n",
       "      <td>30.999606</td>\n",
       "      <td>NaN</td>\n",
       "      <td>30.999606</td>\n",
       "    </tr>\n",
       "  </tbody>\n",
       "</table>\n",
       "</div>"
      ],
      "text/plain": [
       "          Sample  Nitrogen  Water Sample code  Nemas in subsample  \\\n",
       "0      N x Water       NaN    NaN           A                 167   \n",
       "1     N1-311 #32       1.0    1.0           B                 153   \n",
       "2  N1-121 Plot 8       1.0    2.0           C                 151   \n",
       "3     N5-225 #15       5.0    2.0           D                 303   \n",
       "4     N5-325 #28       5.0    2.0           E                 236   \n",
       "\n",
       "   Total nemas in 40 cc soil sample  Soil plus tube weight  Tube weight  \\\n",
       "0                               835              52.328333       13.599   \n",
       "1                               765              48.501000       13.590   \n",
       "2                               755              54.656000       13.767   \n",
       "3                              1515              56.995000       13.744   \n",
       "4                              1180              51.760000       13.695   \n",
       "\n",
       "   Soil wet weight  Nematodes/g wet soil  \\\n",
       "0        38.729333             21.559886   \n",
       "1        34.911000             21.912864   \n",
       "2        40.889000             18.464624   \n",
       "3        43.251000             35.028092   \n",
       "4        38.065000             30.999606   \n",
       "\n",
       "                                Nematodes/g dry soil  Nematode_count  \n",
       "0  Multiply nemas per g wet soil by (1 - soil wat...       21.559886  \n",
       "1                                                NaN       21.912864  \n",
       "2                                                NaN       18.464624  \n",
       "3                                                NaN       35.028092  \n",
       "4                                                NaN       30.999606  "
      ]
     },
     "execution_count": 15,
     "metadata": {},
     "output_type": "execute_result"
    }
   ],
   "source": [
    "data = pd.read_csv('../Data/Nematodes/Bo\\'s N x H2O corn nemas.csv')\n",
    "data['Nematode_count'] = data['Nematodes/g wet soil']\n",
    "data.head()"
   ]
  },
  {
   "cell_type": "code",
   "execution_count": 16,
   "id": "b639b21b",
   "metadata": {},
   "outputs": [
    {
     "data": {
      "text/plain": [
       "<AxesSubplot:xlabel='Nitrogen', ylabel='Nematode_count'>"
      ]
     },
     "execution_count": 16,
     "metadata": {},
     "output_type": "execute_result"
    },
    {
     "data": {
      "image/png": "[encoded data removed]",
      "text/plain": [
       "<Figure size 432x288 with 1 Axes>"
      ]
     },
     "metadata": {
      "needs_background": "light"
     },
     "output_type": "display_data"
    }
   ],
   "source": [
    "sns.scatterplot(y = 'Nematode_count', x = 'Nitrogen', data = data)"
   ]
  },
  {
   "cell_type": "code",
   "execution_count": 17,
   "id": "38662116",
   "metadata": {},
   "outputs": [
    {
     "name": "stdout",
     "output_type": "stream",
     "text": [
      "                          sum_sq   df         F    PR(>F)\n",
      "C(Water)               77.459751  1.0  5.559990  0.064915\n",
      "C(Nitrogen)            72.121680  1.0  5.176829  0.071963\n",
      "C(Nitrogen):C(Water)  102.702950  1.0  7.371924  0.042018\n",
      "Residual               69.658169  5.0       NaN       NaN\n"
     ]
    }
   ],
   "source": [
    "cw_lm = ols('Nematode_count ~ C(Water) + C(Nitrogen) + C(Nitrogen):C(Water)', data=data).fit() #Specify C for Categorical\n",
    "print(sm.stats.anova_lm(cw_lm, typ=2))"
   ]
  }
 ],
 "metadata": {
  "kernelspec": {
   "display_name": "Python 3",
   "language": "python",
   "name": "python3"
  },
  "language_info": {
   "codemirror_mode": {
    "name": "ipython",
    "version": 3
   },
   "file_extension": ".py",
   "mimetype": "text/x-python",
   "name": "python",
   "nbconvert_exporter": "python",
   "pygments_lexer": "ipython3",
   "version": "3.6.12"
  }
 },
 "nbformat": 4,
 "nbformat_minor": 5
}
