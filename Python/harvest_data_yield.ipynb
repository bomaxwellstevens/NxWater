{
 "cells": [
  {
   "cell_type": "code",
   "execution_count": 1,
   "id": "23d453a6",
   "metadata": {},
   "outputs": [],
   "source": [
    "import pandas as pd\n",
    "import numpy as np\n",
    "import seaborn as sns\n",
    "import matplotlib.pyplot as plt\n",
    "import scipy.stats\n",
    "import statsmodels.api as sm\n",
    "from statsmodels.formula.api import ols\n",
    "import matplotlib.pyplot as plt\n",
    "from scipy.stats import shapiro\n",
    "from statsmodels.stats.anova import AnovaRM\n",
    "import pylab"
   ]
  },
  {
   "cell_type": "code",
   "execution_count": 2,
   "id": "49263050",
   "metadata": {},
   "outputs": [
    {
     "data": {
      "text/html": [
       "<div>\n",
       "<style scoped>\n",
       "    .dataframe tbody tr th:only-of-type {\n",
       "        vertical-align: middle;\n",
       "    }\n",
       "\n",
       "    .dataframe tbody tr th {\n",
       "        vertical-align: top;\n",
       "    }\n",
       "\n",
       "    .dataframe thead th {\n",
       "        text-align: right;\n",
       "    }\n",
       "</style>\n",
       "<table border=\"1\" class=\"dataframe\">\n",
       "  <thead>\n",
       "    <tr style=\"text-align: right;\">\n",
       "      <th></th>\n",
       "      <th>Block</th>\n",
       "      <th>Water Trt</th>\n",
       "      <th>N Trt</th>\n",
       "      <th>Plot</th>\n",
       "      <th>Grain Wt (g)</th>\n",
       "      <th>% Moisture Content (MC)</th>\n",
       "      <th>Moisture as decimal</th>\n",
       "      <th>lb/bu</th>\n",
       "      <th>Weight (g) 0% MC</th>\n",
       "      <th>Weight (g) 15.5% MC</th>\n",
       "      <th>...</th>\n",
       "      <th>Grain Yield, 0% MC kg/ha</th>\n",
       "      <th>Grain Yield, 15.5% MC kg/ha</th>\n",
       "      <th>Annual ET, mm</th>\n",
       "      <th>Water trt target</th>\n",
       "      <th>N trt target</th>\n",
       "      <th>Unnamed: 21</th>\n",
       "      <th>water trt codes</th>\n",
       "      <th>targets</th>\n",
       "      <th>N trt codes</th>\n",
       "      <th>targets.1</th>\n",
       "    </tr>\n",
       "  </thead>\n",
       "  <tbody>\n",
       "    <tr>\n",
       "      <th>0</th>\n",
       "      <td>1.0</td>\n",
       "      <td>1.0</td>\n",
       "      <td>4.0</td>\n",
       "      <td>1.0</td>\n",
       "      <td>5644.1</td>\n",
       "      <td>12.2</td>\n",
       "      <td>0.122</td>\n",
       "      <td>58.6</td>\n",
       "      <td>4955.5198</td>\n",
       "      <td>5723.625369</td>\n",
       "      <td>...</td>\n",
       "      <td>10668.154239</td>\n",
       "      <td>12321.718146</td>\n",
       "      <td>NaN</td>\n",
       "      <td>100.0</td>\n",
       "      <td>155.0</td>\n",
       "      <td>NaN</td>\n",
       "      <td>1.0</td>\n",
       "      <td>100.0</td>\n",
       "      <td>1.0</td>\n",
       "      <td>20.0</td>\n",
       "    </tr>\n",
       "    <tr>\n",
       "      <th>1</th>\n",
       "      <td>1.0</td>\n",
       "      <td>1.0</td>\n",
       "      <td>1.0</td>\n",
       "      <td>2.0</td>\n",
       "      <td>3816.1</td>\n",
       "      <td>13.6</td>\n",
       "      <td>0.136</td>\n",
       "      <td>57.7</td>\n",
       "      <td>3297.1104</td>\n",
       "      <td>3808.162512</td>\n",
       "      <td>...</td>\n",
       "      <td>7097.960196</td>\n",
       "      <td>8198.144026</td>\n",
       "      <td>NaN</td>\n",
       "      <td>100.0</td>\n",
       "      <td>20.0</td>\n",
       "      <td>NaN</td>\n",
       "      <td>2.0</td>\n",
       "      <td>70.0</td>\n",
       "      <td>2.0</td>\n",
       "      <td>65.0</td>\n",
       "    </tr>\n",
       "    <tr>\n",
       "      <th>2</th>\n",
       "      <td>1.0</td>\n",
       "      <td>1.0</td>\n",
       "      <td>5.0</td>\n",
       "      <td>3.0</td>\n",
       "      <td>6791.8</td>\n",
       "      <td>13.5</td>\n",
       "      <td>0.135</td>\n",
       "      <td>59.0</td>\n",
       "      <td>5874.9070</td>\n",
       "      <td>6785.517585</td>\n",
       "      <td>...</td>\n",
       "      <td>12647.394531</td>\n",
       "      <td>14607.740683</td>\n",
       "      <td>NaN</td>\n",
       "      <td>100.0</td>\n",
       "      <td>200.0</td>\n",
       "      <td>NaN</td>\n",
       "      <td>NaN</td>\n",
       "      <td>NaN</td>\n",
       "      <td>3.0</td>\n",
       "      <td>110.0</td>\n",
       "    </tr>\n",
       "    <tr>\n",
       "      <th>3</th>\n",
       "      <td>1.0</td>\n",
       "      <td>1.0</td>\n",
       "      <td>3.0</td>\n",
       "      <td>4.0</td>\n",
       "      <td>5572.7</td>\n",
       "      <td>15.6</td>\n",
       "      <td>0.156</td>\n",
       "      <td>58.6</td>\n",
       "      <td>4703.3588</td>\n",
       "      <td>5432.379414</td>\n",
       "      <td>...</td>\n",
       "      <td>10125.306556</td>\n",
       "      <td>11694.729072</td>\n",
       "      <td>NaN</td>\n",
       "      <td>100.0</td>\n",
       "      <td>110.0</td>\n",
       "      <td>NaN</td>\n",
       "      <td>NaN</td>\n",
       "      <td>NaN</td>\n",
       "      <td>4.0</td>\n",
       "      <td>155.0</td>\n",
       "    </tr>\n",
       "    <tr>\n",
       "      <th>4</th>\n",
       "      <td>1.0</td>\n",
       "      <td>1.0</td>\n",
       "      <td>2.0</td>\n",
       "      <td>5.0</td>\n",
       "      <td>4415.3</td>\n",
       "      <td>15.4</td>\n",
       "      <td>0.154</td>\n",
       "      <td>58.2</td>\n",
       "      <td>3735.3438</td>\n",
       "      <td>4314.322089</td>\n",
       "      <td>...</td>\n",
       "      <td>8041.381208</td>\n",
       "      <td>9287.795295</td>\n",
       "      <td>NaN</td>\n",
       "      <td>100.0</td>\n",
       "      <td>65.0</td>\n",
       "      <td>NaN</td>\n",
       "      <td>NaN</td>\n",
       "      <td>NaN</td>\n",
       "      <td>5.0</td>\n",
       "      <td>200.0</td>\n",
       "    </tr>\n",
       "  </tbody>\n",
       "</table>\n",
       "<p>5 rows × 26 columns</p>\n",
       "</div>"
      ],
      "text/plain": [
       "   Block  Water Trt  N Trt  Plot   Grain Wt (g)  % Moisture Content (MC)  \\\n",
       "0    1.0        1.0    4.0   1.0         5644.1                     12.2   \n",
       "1    1.0        1.0    1.0   2.0         3816.1                     13.6   \n",
       "2    1.0        1.0    5.0   3.0         6791.8                     13.5   \n",
       "3    1.0        1.0    3.0   4.0         5572.7                     15.6   \n",
       "4    1.0        1.0    2.0   5.0         4415.3                     15.4   \n",
       "\n",
       "   Moisture as decimal  lb/bu  Weight (g) 0% MC  Weight (g) 15.5% MC  ...  \\\n",
       "0                0.122   58.6         4955.5198          5723.625369  ...   \n",
       "1                0.136   57.7         3297.1104          3808.162512  ...   \n",
       "2                0.135   59.0         5874.9070          6785.517585  ...   \n",
       "3                0.156   58.6         4703.3588          5432.379414  ...   \n",
       "4                0.154   58.2         3735.3438          4314.322089  ...   \n",
       "\n",
       "   Grain Yield, 0% MC kg/ha  Grain Yield, 15.5% MC kg/ha  Annual ET, mm  \\\n",
       "0              10668.154239                 12321.718146            NaN   \n",
       "1               7097.960196                  8198.144026            NaN   \n",
       "2              12647.394531                 14607.740683            NaN   \n",
       "3              10125.306556                 11694.729072            NaN   \n",
       "4               8041.381208                  9287.795295            NaN   \n",
       "\n",
       "   Water trt target  N trt target  Unnamed: 21  water trt codes  targets  \\\n",
       "0             100.0         155.0          NaN              1.0    100.0   \n",
       "1             100.0          20.0          NaN              2.0     70.0   \n",
       "2             100.0         200.0          NaN              NaN      NaN   \n",
       "3             100.0         110.0          NaN              NaN      NaN   \n",
       "4             100.0          65.0          NaN              NaN      NaN   \n",
       "\n",
       "   N trt codes  targets.1  \n",
       "0          1.0       20.0  \n",
       "1          2.0       65.0  \n",
       "2          3.0      110.0  \n",
       "3          4.0      155.0  \n",
       "4          5.0      200.0  \n",
       "\n",
       "[5 rows x 26 columns]"
      ]
     },
     "execution_count": 2,
     "metadata": {},
     "output_type": "execute_result"
    }
   ],
   "source": [
    "data = pd.read_excel('../Data/Harvest/2021 Nxwater exp Akron Harvest data.xlsx', \n",
    "                     sheet_name='2021 Nxwater Yield calculations', engine='openpyxl')\n",
    "data = data[data['Block'] > 0]\n",
    "data.head()"
   ]
  },
  {
   "cell_type": "code",
   "execution_count": 3,
   "id": "575815ee",
   "metadata": {},
   "outputs": [
    {
     "data": {
      "text/plain": [
       "array(['Block', 'Water Trt', 'N Trt', 'Plot', ' Grain Wt (g)',\n",
       "       '% Moisture Content (MC)', 'Moisture as decimal', 'lb/bu',\n",
       "       'Weight (g) 0% MC', 'Weight (g) 15.5% MC', 'Weight (kg) 0% MC',\n",
       "       'Weight (kg) 15.5% MC', 'Harvest area (ac)', 'Harvest area (ha)',\n",
       "       'Grain Yield, 0% MC bu/ac', 'Grain Yield, 15.5% MC bu/ac',\n",
       "       'Grain Yield, 0% MC kg/ha', 'Grain Yield, 15.5% MC kg/ha',\n",
       "       'Annual ET, mm', 'Water trt target', 'N trt target', 'Unnamed: 21',\n",
       "       'water trt codes', 'targets', 'N trt codes', 'targets.1'],\n",
       "      dtype=object)"
      ]
     },
     "execution_count": 3,
     "metadata": {},
     "output_type": "execute_result"
    }
   ],
   "source": [
    "data.columns.values"
   ]
  },
  {
   "cell_type": "code",
   "execution_count": 4,
   "id": "186c0b7d",
   "metadata": {},
   "outputs": [],
   "source": [
    "data_renamed = data.copy()\n",
    "data_renamed['N Trt'] = data['N Trt'].replace({1.0: 20, 2.0: 65, 3.0:110, 4.0:155, 5.0:200, 6.0:245})\n",
    "data_renamed['Water Trt'] = data['Water Trt'].replace({1.0: 100, 2.0: 70})\n",
    "data_renamed['N Trt'] = data_renamed['N Trt'].astype(int)\n",
    "data_renamed['Water Trt'] = data_renamed['Water Trt'].astype(int)\n",
    "data_renamed = data_renamed.rename(columns = {'N Trt':'Nitrogen (lb/ac)'})\n",
    "data_renamed = data_renamed.rename(columns = {'Water Trt':'Water treatment (%ET)'})\n",
    "data_renamed = data_renamed.rename(columns = {'Grain Yield, 15.5% MC bu/ac':'Corn Yield (bu/ac)'})\n",
    "data_renamed['Yield'] = data_renamed['Corn Yield (bu/ac)']\n",
    "data_renamed['Water'] = data_renamed['Water treatment (%ET)']\n",
    "data_renamed['Nitrogen'] = data_renamed['Nitrogen (lb/ac)']"
   ]
  },
  {
   "cell_type": "code",
   "execution_count": 5,
   "id": "5a9c16f8",
   "metadata": {},
   "outputs": [
    {
     "name": "stderr",
     "output_type": "stream",
     "text": [
      "/home/bostevens/anaconda3/envs/py36/lib/python3.6/site-packages/ipykernel_launcher.py:4: MatplotlibDeprecationWarning: savefig() got unexpected keyword argument \"type\" which is no longer supported as of 3.3 and will become an error two minor releases later\n",
      "  after removing the cwd from sys.path.\n"
     ]
    },
    {
     "data": {
      "image/png": "[encoded data removed]",
      "text/plain": [
       "<Figure size 446x360 with 1 Axes>"
      ]
     },
     "metadata": {
      "needs_background": "light"
     },
     "output_type": "display_data"
    }
   ],
   "source": [
    "sns.catplot(x = 'Water treatment (%ET)', y = 'Corn Yield (bu/ac)', hue = 'Nitrogen (lb/ac)', \n",
    "            kind='box', data = data_renamed, palette = 'YlGn')\n",
    "plt.ylim([0,230])\n",
    "plt.savefig('../Figures/Yield/grain_yield.jpg', bbox_inches = 'tight', type = 'jpg', dpi = 300)"
   ]
  },
  {
   "cell_type": "code",
   "execution_count": 11,
   "id": "8c7bb77b",
   "metadata": {},
   "outputs": [
    {
     "name": "stdout",
     "output_type": "stream",
     "text": [
      "Statistics=0.963, p=0.264\n",
      "Sample looks Gaussian (fail to reject H0)\n"
     ]
    }
   ],
   "source": [
    "# normality test\n",
    "# Plot residuals\n",
    "stat, p = shapiro(data_renamed['Yield'])\n",
    "print('Statistics=%.3f, p=%.3f' % (stat, p))\n",
    "# interpret\n",
    "alpha = 0.05\n",
    "if p > alpha:\n",
    "    print('Sample looks Gaussian (fail to reject H0)')\n",
    "else:\n",
    "    print('Sample does not look Gaussian (reject H0)')"
   ]
  },
  {
   "cell_type": "code",
   "execution_count": 13,
   "id": "93751f37",
   "metadata": {},
   "outputs": [
    {
     "data": {
      "image/png": "[encoded data removed]",
      "text/plain": [
       "<Figure size 432x288 with 1 Axes>"
      ]
     },
     "execution_count": 13,
     "metadata": {},
     "output_type": "execute_result"
    },
    {
     "data": {
      "image/png": "[encoded data removed]",
      "text/plain": [
       "<Figure size 432x288 with 1 Axes>"
      ]
     },
     "metadata": {
      "needs_background": "light"
     },
     "output_type": "display_data"
    }
   ],
   "source": [
    "sm.qqplot(data_renamed['Yield'], line = 's')"
   ]
  },
  {
   "cell_type": "code",
   "execution_count": 15,
   "id": "6f217892",
   "metadata": {},
   "outputs": [
    {
     "data": {
      "text/html": [
       "<div>\n",
       "<style scoped>\n",
       "    .dataframe tbody tr th:only-of-type {\n",
       "        vertical-align: middle;\n",
       "    }\n",
       "\n",
       "    .dataframe tbody tr th {\n",
       "        vertical-align: top;\n",
       "    }\n",
       "\n",
       "    .dataframe thead th {\n",
       "        text-align: right;\n",
       "    }\n",
       "</style>\n",
       "<table border=\"1\" class=\"dataframe\">\n",
       "  <thead>\n",
       "    <tr style=\"text-align: right;\">\n",
       "      <th></th>\n",
       "      <th>sum_sq</th>\n",
       "      <th>df</th>\n",
       "      <th>F</th>\n",
       "      <th>PR(&gt;F)</th>\n",
       "    </tr>\n",
       "  </thead>\n",
       "  <tbody>\n",
       "    <tr>\n",
       "      <th>C(Nitrogen)</th>\n",
       "      <td>12448.806532</td>\n",
       "      <td>5.0</td>\n",
       "      <td>7.280908</td>\n",
       "      <td>2.830548e-04</td>\n",
       "    </tr>\n",
       "    <tr>\n",
       "      <th>C(Water)</th>\n",
       "      <td>40933.444356</td>\n",
       "      <td>1.0</td>\n",
       "      <td>119.703293</td>\n",
       "      <td>8.253432e-11</td>\n",
       "    </tr>\n",
       "    <tr>\n",
       "      <th>C(Nitrogen):C(Water)</th>\n",
       "      <td>2121.915787</td>\n",
       "      <td>5.0</td>\n",
       "      <td>1.241040</td>\n",
       "      <td>3.211410e-01</td>\n",
       "    </tr>\n",
       "    <tr>\n",
       "      <th>Residual</th>\n",
       "      <td>8206.981089</td>\n",
       "      <td>24.0</td>\n",
       "      <td>NaN</td>\n",
       "      <td>NaN</td>\n",
       "    </tr>\n",
       "  </tbody>\n",
       "</table>\n",
       "</div>"
      ],
      "text/plain": [
       "                            sum_sq    df           F        PR(>F)\n",
       "C(Nitrogen)           12448.806532   5.0    7.280908  2.830548e-04\n",
       "C(Water)              40933.444356   1.0  119.703293  8.253432e-11\n",
       "C(Nitrogen):C(Water)   2121.915787   5.0    1.241040  3.211410e-01\n",
       "Residual               8206.981089  24.0         NaN           NaN"
      ]
     },
     "execution_count": 15,
     "metadata": {},
     "output_type": "execute_result"
    }
   ],
   "source": [
    "model = ols('Yield ~ C(Nitrogen) + C(Water) + C(Nitrogen):C(Water)', data=data_renamed).fit()\n",
    "anova_table = sm.stats.anova_lm(model, typ=2)\n",
    "anova_table"
   ]
  }
 ],
 "metadata": {
  "kernelspec": {
   "display_name": "Python 3",
   "language": "python",
   "name": "python3"
  },
  "language_info": {
   "codemirror_mode": {
    "name": "ipython",
    "version": 3
   },
   "file_extension": ".py",
   "mimetype": "text/x-python",
   "name": "python",
   "nbconvert_exporter": "python",
   "pygments_lexer": "ipython3",
   "version": "3.6.12"
  }
 },
 "nbformat": 4,
 "nbformat_minor": 5
}
