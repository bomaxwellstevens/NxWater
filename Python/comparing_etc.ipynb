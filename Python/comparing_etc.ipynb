{
 "cells": [
  {
   "cell_type": "code",
   "execution_count": 50,
   "id": "468ac7f7",
   "metadata": {},
   "outputs": [],
   "source": [
    "import pandas as pd\n",
    "import numpy as np\n",
    "import seaborn as sns\n",
    "import matplotlib.pyplot as plt"
   ]
  },
  {
   "cell_type": "code",
   "execution_count": 67,
   "id": "50bbac71",
   "metadata": {},
   "outputs": [],
   "source": [
    "number_of_sheets = 12\n",
    "sheets = []\n",
    "etc = []\n",
    "for i in range(number_of_sheets):\n",
    "    sheets.append(pd.read_excel('../Data/Water_balance/2021_water_balance_cc_0.xlsx', sheet_name=i, engine='openpyxl'))\n",
    "    etc.append(sheets[i].iloc[-1]['ET'])"
   ]
  },
  {
   "cell_type": "code",
   "execution_count": 68,
   "id": "fec41875",
   "metadata": {},
   "outputs": [],
   "source": [
    "number_of_sheets = 12\n",
    "sheets = []\n",
    "etc_3 = []\n",
    "for i in range(number_of_sheets):\n",
    "    sheets.append(pd.read_excel('../Data/Water_balance/2021_water_balance_cc_3.xlsx', sheet_name=i, engine='openpyxl'))\n",
    "    etc_3.append(sheets[i].iloc[-1]['ET'])"
   ]
  },
  {
   "cell_type": "code",
   "execution_count": 69,
   "id": "858ca306",
   "metadata": {},
   "outputs": [
    {
     "data": {
      "text/plain": [
       "[455.35588587847,\n",
       " 454.2915934717383,\n",
       " 456.2979466049544,\n",
       " 460.0016077369457,\n",
       " 455.8362224227192,\n",
       " 464.5470058094637,\n",
       " 263.4740575815109,\n",
       " 262.0207474227327,\n",
       " 270.8954751150848,\n",
       " 261.2398458425985,\n",
       " 270.4126262183639,\n",
       " 270.4795938278572]"
      ]
     },
     "execution_count": 69,
     "metadata": {},
     "output_type": "execute_result"
    }
   ],
   "source": [
    "etc"
   ]
  },
  {
   "cell_type": "code",
   "execution_count": 70,
   "id": "4a8c7bbd",
   "metadata": {},
   "outputs": [
    {
     "data": {
      "text/plain": [
       "[463.2951029286098,\n",
       " 463.1004244287736,\n",
       " 465.2924424645331,\n",
       " 469.9966074513383,\n",
       " 465.9888635120877,\n",
       " 476.5024029205659,\n",
       " 263.9168807179864,\n",
       " 262.8570941069052,\n",
       " 271.9903316161921,\n",
       " 262.5295537747556,\n",
       " 272.231727375649,\n",
       " 272.8720102227817]"
      ]
     },
     "execution_count": 70,
     "metadata": {},
     "output_type": "execute_result"
    }
   ],
   "source": [
    "etc_3"
   ]
  },
  {
   "cell_type": "code",
   "execution_count": 71,
   "id": "0a340c50",
   "metadata": {},
   "outputs": [
    {
     "data": {
      "text/html": [
       "<div>\n",
       "<style scoped>\n",
       "    .dataframe tbody tr th:only-of-type {\n",
       "        vertical-align: middle;\n",
       "    }\n",
       "\n",
       "    .dataframe tbody tr th {\n",
       "        vertical-align: top;\n",
       "    }\n",
       "\n",
       "    .dataframe thead th {\n",
       "        text-align: right;\n",
       "    }\n",
       "</style>\n",
       "<table border=\"1\" class=\"dataframe\">\n",
       "  <thead>\n",
       "    <tr style=\"text-align: right;\">\n",
       "      <th></th>\n",
       "      <th>ETc</th>\n",
       "      <th>ETc_3</th>\n",
       "      <th>Water</th>\n",
       "      <th>Nrate</th>\n",
       "      <th>ET (Trout)</th>\n",
       "      <th>ET (Trout v3)</th>\n",
       "    </tr>\n",
       "  </thead>\n",
       "  <tbody>\n",
       "    <tr>\n",
       "      <th>0</th>\n",
       "      <td>455.355886</td>\n",
       "      <td>463.295103</td>\n",
       "      <td>100</td>\n",
       "      <td>20</td>\n",
       "      <td>455.355886</td>\n",
       "      <td>463.295103</td>\n",
       "    </tr>\n",
       "    <tr>\n",
       "      <th>1</th>\n",
       "      <td>454.291593</td>\n",
       "      <td>463.100424</td>\n",
       "      <td>100</td>\n",
       "      <td>65</td>\n",
       "      <td>454.291593</td>\n",
       "      <td>463.100424</td>\n",
       "    </tr>\n",
       "    <tr>\n",
       "      <th>2</th>\n",
       "      <td>456.297947</td>\n",
       "      <td>465.292442</td>\n",
       "      <td>100</td>\n",
       "      <td>110</td>\n",
       "      <td>456.297947</td>\n",
       "      <td>465.292442</td>\n",
       "    </tr>\n",
       "    <tr>\n",
       "      <th>3</th>\n",
       "      <td>460.001608</td>\n",
       "      <td>469.996607</td>\n",
       "      <td>100</td>\n",
       "      <td>155</td>\n",
       "      <td>460.001608</td>\n",
       "      <td>469.996607</td>\n",
       "    </tr>\n",
       "    <tr>\n",
       "      <th>4</th>\n",
       "      <td>455.836222</td>\n",
       "      <td>465.988864</td>\n",
       "      <td>100</td>\n",
       "      <td>200</td>\n",
       "      <td>455.836222</td>\n",
       "      <td>465.988864</td>\n",
       "    </tr>\n",
       "    <tr>\n",
       "      <th>5</th>\n",
       "      <td>464.547006</td>\n",
       "      <td>476.502403</td>\n",
       "      <td>100</td>\n",
       "      <td>245</td>\n",
       "      <td>464.547006</td>\n",
       "      <td>476.502403</td>\n",
       "    </tr>\n",
       "    <tr>\n",
       "      <th>6</th>\n",
       "      <td>263.474058</td>\n",
       "      <td>263.916881</td>\n",
       "      <td>70</td>\n",
       "      <td>20</td>\n",
       "      <td>263.474058</td>\n",
       "      <td>263.916881</td>\n",
       "    </tr>\n",
       "    <tr>\n",
       "      <th>7</th>\n",
       "      <td>262.020747</td>\n",
       "      <td>262.857094</td>\n",
       "      <td>70</td>\n",
       "      <td>65</td>\n",
       "      <td>262.020747</td>\n",
       "      <td>262.857094</td>\n",
       "    </tr>\n",
       "    <tr>\n",
       "      <th>8</th>\n",
       "      <td>270.895475</td>\n",
       "      <td>271.990332</td>\n",
       "      <td>70</td>\n",
       "      <td>110</td>\n",
       "      <td>270.895475</td>\n",
       "      <td>271.990332</td>\n",
       "    </tr>\n",
       "    <tr>\n",
       "      <th>9</th>\n",
       "      <td>261.239846</td>\n",
       "      <td>262.529554</td>\n",
       "      <td>70</td>\n",
       "      <td>155</td>\n",
       "      <td>261.239846</td>\n",
       "      <td>262.529554</td>\n",
       "    </tr>\n",
       "    <tr>\n",
       "      <th>10</th>\n",
       "      <td>270.412626</td>\n",
       "      <td>272.231727</td>\n",
       "      <td>70</td>\n",
       "      <td>200</td>\n",
       "      <td>270.412626</td>\n",
       "      <td>272.231727</td>\n",
       "    </tr>\n",
       "    <tr>\n",
       "      <th>11</th>\n",
       "      <td>270.479594</td>\n",
       "      <td>272.872010</td>\n",
       "      <td>70</td>\n",
       "      <td>245</td>\n",
       "      <td>270.479594</td>\n",
       "      <td>272.872010</td>\n",
       "    </tr>\n",
       "  </tbody>\n",
       "</table>\n",
       "</div>"
      ],
      "text/plain": [
       "           ETc       ETc_3 Water  Nrate  ET (Trout)  ET (Trout v3)\n",
       "0   455.355886  463.295103   100     20  455.355886     463.295103\n",
       "1   454.291593  463.100424   100     65  454.291593     463.100424\n",
       "2   456.297947  465.292442   100    110  456.297947     465.292442\n",
       "3   460.001608  469.996607   100    155  460.001608     469.996607\n",
       "4   455.836222  465.988864   100    200  455.836222     465.988864\n",
       "5   464.547006  476.502403   100    245  464.547006     476.502403\n",
       "6   263.474058  263.916881    70     20  263.474058     263.916881\n",
       "7   262.020747  262.857094    70     65  262.020747     262.857094\n",
       "8   270.895475  271.990332    70    110  270.895475     271.990332\n",
       "9   261.239846  262.529554    70    155  261.239846     262.529554\n",
       "10  270.412626  272.231727    70    200  270.412626     272.231727\n",
       "11  270.479594  272.872010    70    245  270.479594     272.872010"
      ]
     },
     "execution_count": 71,
     "metadata": {},
     "output_type": "execute_result"
    }
   ],
   "source": [
    "treatments_dict = {'11':'1','12':'2','13':'3','14':'4','15':'5','16':'6',\n",
    "                   '21':'7','22':'8','23':'9','24':'10','25':'11','26':'12'}\n",
    "etc_df = pd.DataFrame(data={'Water_Nrate':list(treatments_dict.keys()), 'ETc':etc, 'ETc_3':etc_3})\n",
    "etc_df['Water'] = [x[0] for x in etc_df['Water_Nrate']]\n",
    "etc_df['Nrate'] = [x[1] for x in etc_df['Water_Nrate']]\n",
    "etc_df.drop('Water_Nrate', inplace = True, axis = 1)\n",
    "etc_df['ET (Trout)'] = etc_df['ETc']\n",
    "etc_df['ET (Trout v3)'] = etc_df['ETc_3']\n",
    "etc_df['Nrate'] = etc_df['Nrate'].replace({'1': '20', '2': '65', '3':'110', '4':'155', '5':'200', '6':'245'})\n",
    "etc_df['Water'] = etc_df['Water'].replace({'1': '100', '2': '70'})\n",
    "etc_df['Nrate'] = etc_df['Nrate'].astype(int)\n",
    "etc_df.sort_values(['Water','Nrate'], inplace = True)\n",
    "etc_df"
   ]
  },
  {
   "cell_type": "code",
   "execution_count": 72,
   "id": "59e178d5",
   "metadata": {},
   "outputs": [],
   "source": [
    "joel_et = pd.read_excel('../Data/Water_balance/Nxwater exp 2021_total ET.xlsx', engine='openpyxl', skiprows=1)\n",
    "joel_et['Nrate'] = joel_et['Nrate'].astype(str)\n",
    "joel_et['Water'] = joel_et['Water'].astype(str)\n",
    "joel_et['Nrate'] = joel_et['Nrate'].replace({'1': '20', '2': '65', '3':'110', '4':'155', '5':'200', '6':'245'})\n",
    "joel_et['Water'] = joel_et['Water'].replace({'1': '100', '2': '70'})\n",
    "joel_et['Nrate'] = joel_et['Nrate'].astype(int)\n",
    "joel_et['ET (Joel)'] = joel_et['ET']*25.4\n",
    "joel_et.sort_values(['Water','Nrate'], inplace = True)"
   ]
  },
  {
   "cell_type": "code",
   "execution_count": 73,
   "id": "f9b3d9ee",
   "metadata": {},
   "outputs": [
    {
     "data": {
      "image/png": "[encoded data removed]",
      "text/plain": [
       "<Figure size 864x432 with 2 Axes>"
      ]
     },
     "metadata": {
      "needs_background": "light"
     },
     "output_type": "display_data"
    }
   ],
   "source": [
    "fig, ax = plt.subplots(1,2, figsize = (12, 6), sharey = True)\n",
    "\n",
    "sns.boxplot(y = 'ET (Joel)', x = 'Water', hue = 'Nrate', data = joel_et, ax = ax[0])\n",
    "sns.boxplot(y = 'ET (Trout)', x = 'Water', hue = 'Nrate', data = etc_df, ax = ax[1])\n",
    "plt.ylim([0, 600])\n",
    "plt.savefig('../Figures/et_comparison.jpg', dpi = 300, bbox_inches = 'tight')"
   ]
  },
  {
   "cell_type": "code",
   "execution_count": 74,
   "id": "05bbb421",
   "metadata": {},
   "outputs": [
    {
     "data": {
      "text/html": [
       "<div>\n",
       "<style scoped>\n",
       "    .dataframe tbody tr th:only-of-type {\n",
       "        vertical-align: middle;\n",
       "    }\n",
       "\n",
       "    .dataframe tbody tr th {\n",
       "        vertical-align: top;\n",
       "    }\n",
       "\n",
       "    .dataframe thead th {\n",
       "        text-align: right;\n",
       "    }\n",
       "</style>\n",
       "<table border=\"1\" class=\"dataframe\">\n",
       "  <thead>\n",
       "    <tr style=\"text-align: right;\">\n",
       "      <th></th>\n",
       "      <th>ETc</th>\n",
       "      <th>ETc_3</th>\n",
       "      <th>Water</th>\n",
       "      <th>Nrate</th>\n",
       "      <th>ET (Trout)</th>\n",
       "      <th>ET (Trout v3)</th>\n",
       "    </tr>\n",
       "  </thead>\n",
       "  <tbody>\n",
       "    <tr>\n",
       "      <th>0</th>\n",
       "      <td>455.355886</td>\n",
       "      <td>463.295103</td>\n",
       "      <td>100</td>\n",
       "      <td>20</td>\n",
       "      <td>455.355886</td>\n",
       "      <td>463.295103</td>\n",
       "    </tr>\n",
       "    <tr>\n",
       "      <th>1</th>\n",
       "      <td>454.291593</td>\n",
       "      <td>463.100424</td>\n",
       "      <td>100</td>\n",
       "      <td>65</td>\n",
       "      <td>454.291593</td>\n",
       "      <td>463.100424</td>\n",
       "    </tr>\n",
       "    <tr>\n",
       "      <th>2</th>\n",
       "      <td>456.297947</td>\n",
       "      <td>465.292442</td>\n",
       "      <td>100</td>\n",
       "      <td>110</td>\n",
       "      <td>456.297947</td>\n",
       "      <td>465.292442</td>\n",
       "    </tr>\n",
       "    <tr>\n",
       "      <th>3</th>\n",
       "      <td>460.001608</td>\n",
       "      <td>469.996607</td>\n",
       "      <td>100</td>\n",
       "      <td>155</td>\n",
       "      <td>460.001608</td>\n",
       "      <td>469.996607</td>\n",
       "    </tr>\n",
       "    <tr>\n",
       "      <th>4</th>\n",
       "      <td>455.836222</td>\n",
       "      <td>465.988864</td>\n",
       "      <td>100</td>\n",
       "      <td>200</td>\n",
       "      <td>455.836222</td>\n",
       "      <td>465.988864</td>\n",
       "    </tr>\n",
       "    <tr>\n",
       "      <th>5</th>\n",
       "      <td>464.547006</td>\n",
       "      <td>476.502403</td>\n",
       "      <td>100</td>\n",
       "      <td>245</td>\n",
       "      <td>464.547006</td>\n",
       "      <td>476.502403</td>\n",
       "    </tr>\n",
       "    <tr>\n",
       "      <th>6</th>\n",
       "      <td>263.474058</td>\n",
       "      <td>263.916881</td>\n",
       "      <td>70</td>\n",
       "      <td>20</td>\n",
       "      <td>263.474058</td>\n",
       "      <td>263.916881</td>\n",
       "    </tr>\n",
       "    <tr>\n",
       "      <th>7</th>\n",
       "      <td>262.020747</td>\n",
       "      <td>262.857094</td>\n",
       "      <td>70</td>\n",
       "      <td>65</td>\n",
       "      <td>262.020747</td>\n",
       "      <td>262.857094</td>\n",
       "    </tr>\n",
       "    <tr>\n",
       "      <th>8</th>\n",
       "      <td>270.895475</td>\n",
       "      <td>271.990332</td>\n",
       "      <td>70</td>\n",
       "      <td>110</td>\n",
       "      <td>270.895475</td>\n",
       "      <td>271.990332</td>\n",
       "    </tr>\n",
       "    <tr>\n",
       "      <th>9</th>\n",
       "      <td>261.239846</td>\n",
       "      <td>262.529554</td>\n",
       "      <td>70</td>\n",
       "      <td>155</td>\n",
       "      <td>261.239846</td>\n",
       "      <td>262.529554</td>\n",
       "    </tr>\n",
       "    <tr>\n",
       "      <th>10</th>\n",
       "      <td>270.412626</td>\n",
       "      <td>272.231727</td>\n",
       "      <td>70</td>\n",
       "      <td>200</td>\n",
       "      <td>270.412626</td>\n",
       "      <td>272.231727</td>\n",
       "    </tr>\n",
       "    <tr>\n",
       "      <th>11</th>\n",
       "      <td>270.479594</td>\n",
       "      <td>272.872010</td>\n",
       "      <td>70</td>\n",
       "      <td>245</td>\n",
       "      <td>270.479594</td>\n",
       "      <td>272.872010</td>\n",
       "    </tr>\n",
       "  </tbody>\n",
       "</table>\n",
       "</div>"
      ],
      "text/plain": [
       "           ETc       ETc_3 Water  Nrate  ET (Trout)  ET (Trout v3)\n",
       "0   455.355886  463.295103   100     20  455.355886     463.295103\n",
       "1   454.291593  463.100424   100     65  454.291593     463.100424\n",
       "2   456.297947  465.292442   100    110  456.297947     465.292442\n",
       "3   460.001608  469.996607   100    155  460.001608     469.996607\n",
       "4   455.836222  465.988864   100    200  455.836222     465.988864\n",
       "5   464.547006  476.502403   100    245  464.547006     476.502403\n",
       "6   263.474058  263.916881    70     20  263.474058     263.916881\n",
       "7   262.020747  262.857094    70     65  262.020747     262.857094\n",
       "8   270.895475  271.990332    70    110  270.895475     271.990332\n",
       "9   261.239846  262.529554    70    155  261.239846     262.529554\n",
       "10  270.412626  272.231727    70    200  270.412626     272.231727\n",
       "11  270.479594  272.872010    70    245  270.479594     272.872010"
      ]
     },
     "execution_count": 74,
     "metadata": {},
     "output_type": "execute_result"
    }
   ],
   "source": [
    "etc_df"
   ]
  },
  {
   "cell_type": "code",
   "execution_count": 75,
   "id": "f6da7320",
   "metadata": {},
   "outputs": [
    {
     "data": {
      "text/plain": [
       "(0.0, 600.0)"
      ]
     },
     "execution_count": 75,
     "metadata": {},
     "output_type": "execute_result"
    },
    {
     "data": {
      "image/png": "[encoded data removed]",
      "text/plain": [
       "<Figure size 864x432 with 2 Axes>"
      ]
     },
     "metadata": {
      "needs_background": "light"
     },
     "output_type": "display_data"
    }
   ],
   "source": [
    "fig, ax = plt.subplots(1,2, figsize = (12, 6), sharey = True)\n",
    "\n",
    "sns.boxplot(y = 'ET (Trout v3)', x = 'Water', hue = 'Nrate', data = etc_df, ax = ax[0])\n",
    "sns.boxplot(y = 'ET (Trout)', x = 'Water', hue = 'Nrate', data = etc_df, ax = ax[1])\n",
    "plt.ylim([0, 600])\n",
    "# plt.savefig('../Figures/et_comparison.jpg', dpi = 300, bbox_inches = 'tight')"
   ]
  },
  {
   "cell_type": "code",
   "execution_count": 77,
   "id": "6d34a2fe",
   "metadata": {},
   "outputs": [
    {
     "data": {
      "text/plain": [
       "<AxesSubplot:xlabel='ET (Trout v3)', ylabel='ET (Trout)'>"
      ]
     },
     "execution_count": 77,
     "metadata": {},
     "output_type": "execute_result"
    },
    {
     "data": {
      "image/png": "[encoded data removed]",
      "text/plain": [
       "<Figure size 432x288 with 1 Axes>"
      ]
     },
     "metadata": {
      "needs_background": "light"
     },
     "output_type": "display_data"
    }
   ],
   "source": [
    "sns.regplot(x = 'ET (Trout v3)', y = 'ET (Trout)', data = etc_df)"
   ]
  },
  {
   "cell_type": "code",
   "execution_count": 33,
   "id": "535264bf",
   "metadata": {},
   "outputs": [
    {
     "data": {
      "image/png": "[encoded data removed]",
      "text/plain": [
       "<Figure size 864x432 with 2 Axes>"
      ]
     },
     "metadata": {
      "needs_background": "light"
     },
     "output_type": "display_data"
    }
   ],
   "source": [
    "fig, ax = plt.subplots(1,2, figsize = (12, 6), sharey = True)\n",
    "\n",
    "sns.boxplot(y = 'ET (Joel)', x = 'Water', hue = 'Nrate', data = joel_et, ax = ax[0])\n",
    "sns.boxplot(y = 'ET (Trout)', x = 'Water', hue = 'Nrate', data = etc_df, ax = ax[1])\n",
    "plt.ylim([0, 600])\n",
    "plt.savefig('../Figures/et_comparison.jpg', dpi = 300, bbox_inches = 'tight')"
   ]
  },
  {
   "cell_type": "code",
   "execution_count": 7,
   "id": "eaa183f7",
   "metadata": {},
   "outputs": [
    {
     "data": {
      "text/html": [
       "<div>\n",
       "<style scoped>\n",
       "    .dataframe tbody tr th:only-of-type {\n",
       "        vertical-align: middle;\n",
       "    }\n",
       "\n",
       "    .dataframe tbody tr th {\n",
       "        vertical-align: top;\n",
       "    }\n",
       "\n",
       "    .dataframe thead th {\n",
       "        text-align: right;\n",
       "    }\n",
       "</style>\n",
       "<table border=\"1\" class=\"dataframe\">\n",
       "  <thead>\n",
       "    <tr style=\"text-align: right;\">\n",
       "      <th></th>\n",
       "      <th>Water</th>\n",
       "      <th>Nrate</th>\n",
       "      <th>ET (Joel)</th>\n",
       "    </tr>\n",
       "  </thead>\n",
       "  <tbody>\n",
       "    <tr>\n",
       "      <th>0</th>\n",
       "      <td>100</td>\n",
       "      <td>20</td>\n",
       "      <td>477.712794</td>\n",
       "    </tr>\n",
       "    <tr>\n",
       "      <th>1</th>\n",
       "      <td>100</td>\n",
       "      <td>65</td>\n",
       "      <td>512.589483</td>\n",
       "    </tr>\n",
       "    <tr>\n",
       "      <th>2</th>\n",
       "      <td>100</td>\n",
       "      <td>110</td>\n",
       "      <td>520.706448</td>\n",
       "    </tr>\n",
       "    <tr>\n",
       "      <th>3</th>\n",
       "      <td>100</td>\n",
       "      <td>155</td>\n",
       "      <td>510.888174</td>\n",
       "    </tr>\n",
       "    <tr>\n",
       "      <th>4</th>\n",
       "      <td>100</td>\n",
       "      <td>200</td>\n",
       "      <td>535.964381</td>\n",
       "    </tr>\n",
       "    <tr>\n",
       "      <th>5</th>\n",
       "      <td>100</td>\n",
       "      <td>245</td>\n",
       "      <td>549.292655</td>\n",
       "    </tr>\n",
       "    <tr>\n",
       "      <th>6</th>\n",
       "      <td>70</td>\n",
       "      <td>20</td>\n",
       "      <td>374.725534</td>\n",
       "    </tr>\n",
       "    <tr>\n",
       "      <th>7</th>\n",
       "      <td>70</td>\n",
       "      <td>65</td>\n",
       "      <td>371.838265</td>\n",
       "    </tr>\n",
       "    <tr>\n",
       "      <th>8</th>\n",
       "      <td>70</td>\n",
       "      <td>110</td>\n",
       "      <td>381.774182</td>\n",
       "    </tr>\n",
       "    <tr>\n",
       "      <th>9</th>\n",
       "      <td>70</td>\n",
       "      <td>155</td>\n",
       "      <td>410.879476</td>\n",
       "    </tr>\n",
       "    <tr>\n",
       "      <th>10</th>\n",
       "      <td>70</td>\n",
       "      <td>200</td>\n",
       "      <td>418.267909</td>\n",
       "    </tr>\n",
       "    <tr>\n",
       "      <th>11</th>\n",
       "      <td>70</td>\n",
       "      <td>245</td>\n",
       "      <td>418.730145</td>\n",
       "    </tr>\n",
       "  </tbody>\n",
       "</table>\n",
       "</div>"
      ],
      "text/plain": [
       "   Water  Nrate   ET (Joel)\n",
       "0    100     20  477.712794\n",
       "1    100     65  512.589483\n",
       "2    100    110  520.706448\n",
       "3    100    155  510.888174\n",
       "4    100    200  535.964381\n",
       "5    100    245  549.292655\n",
       "6     70     20  374.725534\n",
       "7     70     65  371.838265\n",
       "8     70    110  381.774182\n",
       "9     70    155  410.879476\n",
       "10    70    200  418.267909\n",
       "11    70    245  418.730145"
      ]
     },
     "execution_count": 7,
     "metadata": {},
     "output_type": "execute_result"
    }
   ],
   "source": [
    "joel_et_grouped = joel_et[['Water','Nrate','ET (Joel)']].groupby(['Water','Nrate']).mean().reset_index()\n",
    "joel_et_grouped"
   ]
  },
  {
   "cell_type": "code",
   "execution_count": 8,
   "id": "139215b9",
   "metadata": {},
   "outputs": [
    {
     "data": {
      "text/plain": [
       "0     535.943964\n",
       "1     534.537195\n",
       "2     538.442469\n",
       "3     541.547849\n",
       "4     538.060673\n",
       "5     544.675844\n",
       "6     358.047738\n",
       "7     356.805834\n",
       "8     366.159978\n",
       "9     357.176590\n",
       "10    365.168484\n",
       "11    364.274697\n",
       "Name: ET (Trout), dtype: float64"
      ]
     },
     "execution_count": 8,
     "metadata": {},
     "output_type": "execute_result"
    }
   ],
   "source": [
    "etc_df['ET (Trout)']"
   ]
  },
  {
   "cell_type": "code",
   "execution_count": 9,
   "id": "d6b9d16b",
   "metadata": {},
   "outputs": [
    {
     "data": {
      "text/plain": [
       "0     477.712794\n",
       "1     512.589483\n",
       "2     520.706448\n",
       "3     510.888174\n",
       "4     535.964381\n",
       "5     549.292655\n",
       "6     374.725534\n",
       "7     371.838265\n",
       "8     381.774182\n",
       "9     410.879476\n",
       "10    418.267909\n",
       "11    418.730145\n",
       "Name: ET (Joel), dtype: float64"
      ]
     },
     "execution_count": 9,
     "metadata": {},
     "output_type": "execute_result"
    }
   ],
   "source": [
    "joel_et_grouped['ET (Joel)']"
   ]
  },
  {
   "cell_type": "code",
   "execution_count": 10,
   "id": "4f53ee85",
   "metadata": {},
   "outputs": [
    {
     "name": "stderr",
     "output_type": "stream",
     "text": [
      "/home/bostevens/anaconda3/envs/py36/lib/python3.6/site-packages/seaborn/_decorators.py:43: FutureWarning: Pass the following variables as keyword args: x, y. From version 0.12, the only valid positional argument will be `data`, and passing other arguments without an explicit keyword will result in an error or misinterpretation.\n",
      "  FutureWarning\n"
     ]
    },
    {
     "data": {
      "text/plain": [
       "<AxesSubplot:xlabel='ET (Trout)', ylabel='ET (Joel)'>"
      ]
     },
     "execution_count": 10,
     "metadata": {},
     "output_type": "execute_result"
    },
    {
     "data": {
      "image/png": "[encoded data removed]",
      "text/plain": [
       "<Figure size 432x288 with 1 Axes>"
      ]
     },
     "metadata": {
      "needs_background": "light"
     },
     "output_type": "display_data"
    }
   ],
   "source": [
    "sns.scatterplot(etc_df['ET (Trout)'], joel_et_grouped['ET (Joel)'])"
   ]
  }
 ],
 "metadata": {
  "kernelspec": {
   "display_name": "Python 3",
   "language": "python",
   "name": "python3"
  },
  "language_info": {
   "codemirror_mode": {
    "name": "ipython",
    "version": 3
   },
   "file_extension": ".py",
   "mimetype": "text/x-python",
   "name": "python",
   "nbconvert_exporter": "python",
   "pygments_lexer": "ipython3",
   "version": "3.6.12"
  }
 },
 "nbformat": 4,
 "nbformat_minor": 5
}
