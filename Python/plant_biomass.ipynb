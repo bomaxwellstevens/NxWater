{
 "cells": [
  {
   "cell_type": "code",
   "execution_count": 28,
   "id": "c25562d2",
   "metadata": {},
   "outputs": [],
   "source": [
    "import pandas as pd\n",
    "import numpy as np\n",
    "import seaborn as sns\n",
    "import matplotlib.pyplot as plt\n",
    "import scipy.stats\n",
    "import statsmodels.api as sm\n",
    "from statsmodels.formula.api import ols\n",
    "import matplotlib.pyplot as plt\n",
    "from scipy.stats import shapiro\n",
    "from statsmodels.stats.anova import AnovaRM\n",
    "import pylab"
   ]
  },
  {
   "cell_type": "code",
   "execution_count": 76,
   "id": "4b0736e5",
   "metadata": {},
   "outputs": [
    {
     "name": "stderr",
     "output_type": "stream",
     "text": [
      "/home/bostevens/anaconda3/envs/py36/lib/python3.6/site-packages/pandas/core/series.py:726: RuntimeWarning: invalid value encountered in log\n",
      "  result = getattr(ufunc, method)(*inputs, **kwargs)\n"
     ]
    },
    {
     "data": {
      "text/html": [
       "<div>\n",
       "<style scoped>\n",
       "    .dataframe tbody tr th:only-of-type {\n",
       "        vertical-align: middle;\n",
       "    }\n",
       "\n",
       "    .dataframe tbody tr th {\n",
       "        vertical-align: top;\n",
       "    }\n",
       "\n",
       "    .dataframe thead th {\n",
       "        text-align: right;\n",
       "    }\n",
       "</style>\n",
       "<table border=\"1\" class=\"dataframe\">\n",
       "  <thead>\n",
       "    <tr style=\"text-align: right;\">\n",
       "      <th></th>\n",
       "      <th>Date</th>\n",
       "      <th>Plot</th>\n",
       "      <th>PlantPart</th>\n",
       "      <th>Dry weight (5 plants), g</th>\n",
       "      <th>Dry weight (per plant), g</th>\n",
       "      <th>TrtID</th>\n",
       "      <th>DatePartTrtID</th>\n",
       "      <th>Unnamed: 7</th>\n",
       "      <th>Unnamed: 8</th>\n",
       "      <th>Plot.1</th>\n",
       "      <th>TRTID</th>\n",
       "      <th>Nitrogen</th>\n",
       "      <th>Water</th>\n",
       "      <th>Date simple</th>\n",
       "      <th>Nitrogen_numeric</th>\n",
       "      <th>Biomass</th>\n",
       "      <th>DW_log</th>\n",
       "    </tr>\n",
       "  </thead>\n",
       "  <tbody>\n",
       "    <tr>\n",
       "      <th>0</th>\n",
       "      <td>2021-09-23</td>\n",
       "      <td>1</td>\n",
       "      <td>Leaves</td>\n",
       "      <td>162.0</td>\n",
       "      <td>32.4</td>\n",
       "      <td>114</td>\n",
       "      <td>44462Leaves114</td>\n",
       "      <td>NaN</td>\n",
       "      <td>NaN</td>\n",
       "      <td>1.0</td>\n",
       "      <td>114.0</td>\n",
       "      <td>4</td>\n",
       "      <td>100</td>\n",
       "      <td>09-23</td>\n",
       "      <td>155</td>\n",
       "      <td>32.4</td>\n",
       "      <td>3.478158</td>\n",
       "    </tr>\n",
       "    <tr>\n",
       "      <th>1</th>\n",
       "      <td>2021-09-23</td>\n",
       "      <td>2</td>\n",
       "      <td>Leaves</td>\n",
       "      <td>135.0</td>\n",
       "      <td>27.0</td>\n",
       "      <td>111</td>\n",
       "      <td>44462Leaves111</td>\n",
       "      <td>NaN</td>\n",
       "      <td>NaN</td>\n",
       "      <td>2.0</td>\n",
       "      <td>111.0</td>\n",
       "      <td>1</td>\n",
       "      <td>100</td>\n",
       "      <td>09-23</td>\n",
       "      <td>20</td>\n",
       "      <td>27.0</td>\n",
       "      <td>3.295837</td>\n",
       "    </tr>\n",
       "    <tr>\n",
       "      <th>2</th>\n",
       "      <td>2021-09-23</td>\n",
       "      <td>3</td>\n",
       "      <td>Leaves</td>\n",
       "      <td>158.0</td>\n",
       "      <td>31.6</td>\n",
       "      <td>115</td>\n",
       "      <td>44462Leaves115</td>\n",
       "      <td>NaN</td>\n",
       "      <td>NaN</td>\n",
       "      <td>3.0</td>\n",
       "      <td>115.0</td>\n",
       "      <td>5</td>\n",
       "      <td>100</td>\n",
       "      <td>09-23</td>\n",
       "      <td>200</td>\n",
       "      <td>31.6</td>\n",
       "      <td>3.453157</td>\n",
       "    </tr>\n",
       "    <tr>\n",
       "      <th>3</th>\n",
       "      <td>2021-09-23</td>\n",
       "      <td>4</td>\n",
       "      <td>Leaves</td>\n",
       "      <td>206.0</td>\n",
       "      <td>41.2</td>\n",
       "      <td>113</td>\n",
       "      <td>44462Leaves113</td>\n",
       "      <td>NaN</td>\n",
       "      <td>NaN</td>\n",
       "      <td>4.0</td>\n",
       "      <td>113.0</td>\n",
       "      <td>3</td>\n",
       "      <td>100</td>\n",
       "      <td>09-23</td>\n",
       "      <td>110</td>\n",
       "      <td>41.2</td>\n",
       "      <td>3.718438</td>\n",
       "    </tr>\n",
       "    <tr>\n",
       "      <th>4</th>\n",
       "      <td>2021-09-23</td>\n",
       "      <td>5</td>\n",
       "      <td>Leaves</td>\n",
       "      <td>199.0</td>\n",
       "      <td>39.8</td>\n",
       "      <td>112</td>\n",
       "      <td>44462Leaves112</td>\n",
       "      <td>NaN</td>\n",
       "      <td>NaN</td>\n",
       "      <td>5.0</td>\n",
       "      <td>112.0</td>\n",
       "      <td>2</td>\n",
       "      <td>100</td>\n",
       "      <td>09-23</td>\n",
       "      <td>65</td>\n",
       "      <td>39.8</td>\n",
       "      <td>3.683867</td>\n",
       "    </tr>\n",
       "  </tbody>\n",
       "</table>\n",
       "</div>"
      ],
      "text/plain": [
       "        Date  Plot PlantPart  Dry weight (5 plants), g  \\\n",
       "0 2021-09-23     1    Leaves                     162.0   \n",
       "1 2021-09-23     2    Leaves                     135.0   \n",
       "2 2021-09-23     3    Leaves                     158.0   \n",
       "3 2021-09-23     4    Leaves                     206.0   \n",
       "4 2021-09-23     5    Leaves                     199.0   \n",
       "\n",
       "   Dry weight (per plant), g TrtID   DatePartTrtID  Unnamed: 7  Unnamed: 8  \\\n",
       "0                       32.4   114  44462Leaves114         NaN         NaN   \n",
       "1                       27.0   111  44462Leaves111         NaN         NaN   \n",
       "2                       31.6   115  44462Leaves115         NaN         NaN   \n",
       "3                       41.2   113  44462Leaves113         NaN         NaN   \n",
       "4                       39.8   112  44462Leaves112         NaN         NaN   \n",
       "\n",
       "   Plot.1  TRTID Nitrogen Water Date simple  Nitrogen_numeric  Biomass  \\\n",
       "0     1.0  114.0        4   100       09-23               155     32.4   \n",
       "1     2.0  111.0        1   100       09-23                20     27.0   \n",
       "2     3.0  115.0        5   100       09-23               200     31.6   \n",
       "3     4.0  113.0        3   100       09-23               110     41.2   \n",
       "4     5.0  112.0        2   100       09-23                65     39.8   \n",
       "\n",
       "     DW_log  \n",
       "0  3.478158  \n",
       "1  3.295837  \n",
       "2  3.453157  \n",
       "3  3.718438  \n",
       "4  3.683867  "
      ]
     },
     "execution_count": 76,
     "metadata": {},
     "output_type": "execute_result"
    }
   ],
   "source": [
    "plant_biomass = pd.read_excel('../Data/Plant biomass/Akron 2021 NxIrr Biomass by date summary.xlsx', engine='openpyxl')\n",
    "plant_biomass['Date'] = pd.to_datetime(plant_biomass['Date'])\n",
    "plant_biomass['TrtID'] = plant_biomass['TrtID'].astype('str')\n",
    "plant_biomass['Nitrogen'] = [x[-1] for x in plant_biomass['TrtID']]\n",
    "plant_biomass['Water'] = [x[1] for x in plant_biomass['TrtID']]\n",
    "plant_biomass['Date simple'] = [x.strftime('%m-%d') for x in plant_biomass['Date']]\n",
    "plant_biomass['Nitrogen_numeric'] = pd.to_numeric(plant_biomass['Nitrogen'])\n",
    "plant_biomass['Nitrogen_numeric'] = plant_biomass['Nitrogen_numeric'].replace({1.0: 20, 2.0: 65, 3.0:110, 4.0:155, 5.0:200, 6.0:245})\n",
    "# Non-log data is not normal and qqplot is no good --- this is for all of it\n",
    "# Normal for grain\n",
    "plant_biomass['Biomass'] = plant_biomass['Dry weight (per plant), g']\n",
    "plant_biomass['DW_log'] = np.log(plant_biomass['Dry weight (per plant), g'])\n",
    "plant_biomass['Water'] = plant_biomass['Water'].replace({'1': '100', '2': '70'})\n",
    "plant_biomass.head()"
   ]
  },
  {
   "cell_type": "code",
   "execution_count": 77,
   "id": "65c208ce",
   "metadata": {},
   "outputs": [
    {
     "data": {
      "text/plain": [
       "{'06-09', '06-30', '07-21', '08-04', '09-23'}"
      ]
     },
     "execution_count": 77,
     "metadata": {},
     "output_type": "execute_result"
    }
   ],
   "source": [
    "set(plant_biomass['Date simple'])"
   ]
  },
  {
   "cell_type": "code",
   "execution_count": 85,
   "id": "2d435604",
   "metadata": {},
   "outputs": [
    {
     "data": {
      "text/plain": [
       "(0.0, 200.0)"
      ]
     },
     "execution_count": 85,
     "metadata": {},
     "output_type": "execute_result"
    },
    {
     "data": {
      "image/png": "[encoded data removed]",
      "text/plain": [
       "<Figure size 432x288 with 1 Axes>"
      ]
     },
     "metadata": {
      "needs_background": "light"
     },
     "output_type": "display_data"
    }
   ],
   "source": [
    "plotting_data = plant_biomass[plant_biomass['PlantPart'] == 'Grain']\n",
    "sns.boxplot(y = 'Biomass', x = 'Nitrogen', hue = 'Water', data = plotting_data, palette = 'Blues_r',\n",
    "           order = ['1','2','3','4','5','6'])\n",
    "plt.ylim([0,200])\n",
    "# sns.lineplot(y = 'Biomass', x = 'Date', hue = 'Nitrogen',\n",
    "#              hue_order = ['1','2','3','4','5','6'], data = plotting_data)\n",
    "# plt.xticks(rotation = 'vertical')"
   ]
  },
  {
   "cell_type": "code",
   "execution_count": 88,
   "id": "94b58dbd",
   "metadata": {},
   "outputs": [
    {
     "data": {
      "text/plain": [
       "(0.0, 200.0)"
      ]
     },
     "execution_count": 88,
     "metadata": {},
     "output_type": "execute_result"
    },
    {
     "data": {
      "image/png": "[encoded data removed]",
      "text/plain": [
       "<Figure size 432x288 with 1 Axes>"
      ]
     },
     "metadata": {
      "needs_background": "light"
     },
     "output_type": "display_data"
    }
   ],
   "source": [
    "sns.lineplot(y = 'Biomass', x = 'Nitrogen_numeric', hue = 'Water', data = plotting_data, palette='Blues_r')\n",
    "plt.ylabel('Dry weight (per plant), g')\n",
    "plt.xlabel('Nitrogen (lbs/acre)')\n",
    "plt.ylim([0,200])"
   ]
  },
  {
   "cell_type": "markdown",
   "id": "fae07168",
   "metadata": {},
   "source": [
    "# Check for assumptions"
   ]
  },
  {
   "cell_type": "code",
   "execution_count": 57,
   "id": "90e4d965",
   "metadata": {},
   "outputs": [
    {
     "name": "stdout",
     "output_type": "stream",
     "text": [
      "Statistics=0.979, p=0.700\n",
      "Sample looks Gaussian (fail to reject H0)\n"
     ]
    }
   ],
   "source": [
    "# normality test\n",
    "# Plot residuals\n",
    "stat, p = shapiro(plant_biomass[plant_biomass['PlantPart'] == 'Grain']['Dry weight (per plant), g'])\n",
    "print('Statistics=%.3f, p=%.3f' % (stat, p))\n",
    "# interpret\n",
    "alpha = 0.05\n",
    "if p > alpha:\n",
    "    print('Sample looks Gaussian (fail to reject H0)')\n",
    "else:\n",
    "    print('Sample does not look Gaussian (reject H0)')"
   ]
  },
  {
   "cell_type": "code",
   "execution_count": 33,
   "id": "e3ec373b",
   "metadata": {},
   "outputs": [
    {
     "name": "stdout",
     "output_type": "stream",
     "text": [
      "Statistics=nan, p=1.000\n",
      "Sample looks Gaussian (fail to reject H0)\n"
     ]
    }
   ],
   "source": [
    "# normality test\n",
    "# Plot residuals\n",
    "stat, p = shapiro(plant_biomass['DW_log'])\n",
    "print('Statistics=%.3f, p=%.3f' % (stat, p))\n",
    "# interpret\n",
    "alpha = 0.05\n",
    "if p > alpha:\n",
    "    print('Sample looks Gaussian (fail to reject H0)')\n",
    "else:\n",
    "    print('Sample does not look Gaussian (reject H0)')"
   ]
  },
  {
   "cell_type": "code",
   "execution_count": 38,
   "id": "5ad1fe5a",
   "metadata": {},
   "outputs": [
    {
     "data": {
      "image/png": "[encoded data removed]",
      "text/plain": [
       "<Figure size 432x288 with 1 Axes>"
      ]
     },
     "execution_count": 38,
     "metadata": {},
     "output_type": "execute_result"
    },
    {
     "data": {
      "image/png": "[encoded data removed]",
      "text/plain": [
       "<Figure size 432x288 with 1 Axes>"
      ]
     },
     "metadata": {
      "needs_background": "light"
     },
     "output_type": "display_data"
    }
   ],
   "source": [
    "# This looks weird\n",
    "sm.qqplot(plant_biomass['DW_log'], line = 's')"
   ]
  },
  {
   "cell_type": "markdown",
   "id": "4ce32471",
   "metadata": {},
   "source": [
    "# ANOVA"
   ]
  },
  {
   "cell_type": "code",
   "execution_count": 42,
   "id": "c8d20b87",
   "metadata": {},
   "outputs": [
    {
     "data": {
      "text/plain": [
       "array(['Date', 'Plot', 'PlantPart', 'Dry weight (5 plants), g',\n",
       "       'Dry weight (per plant), g', 'TrtID', 'DatePartTrtID',\n",
       "       'Unnamed: 7', 'Unnamed: 8', 'Plot.1', 'TRTID', 'Nitrogen', 'Water',\n",
       "       'Date simple', 'DW_log'], dtype=object)"
      ]
     },
     "execution_count": 42,
     "metadata": {},
     "output_type": "execute_result"
    }
   ],
   "source": [
    "plant_biomass.columns.values"
   ]
  },
  {
   "cell_type": "code",
   "execution_count": 47,
   "id": "78512ad1",
   "metadata": {},
   "outputs": [
    {
     "name": "stdout",
     "output_type": "stream",
     "text": [
      "{'Grain', 'Shoots', 'Leaves', 'Cobs', 'Stalks'}\n"
     ]
    },
    {
     "data": {
      "text/plain": [
       "Stalks    78\n",
       "Leaves    78\n",
       "Shoots    72\n",
       "Cobs      36\n",
       "Grain     36\n",
       "Name: PlantPart, dtype: int64"
      ]
     },
     "execution_count": 47,
     "metadata": {},
     "output_type": "execute_result"
    }
   ],
   "source": [
    "print(set(plant_biomass['PlantPart']))\n",
    "plant_biomass['PlantPart'].value_counts()"
   ]
  },
  {
   "cell_type": "code",
   "execution_count": 41,
   "id": "03d53c38",
   "metadata": {},
   "outputs": [
    {
     "data": {
      "text/plain": [
       "2021-09-23    144\n",
       "2021-08-04     72\n",
       "2021-06-30     36\n",
       "2021-06-09     36\n",
       "2021-07-21     12\n",
       "Name: Date, dtype: int64"
      ]
     },
     "execution_count": 41,
     "metadata": {},
     "output_type": "execute_result"
    }
   ],
   "source": [
    "plant_biomass['Date'].value_counts()"
   ]
  },
  {
   "cell_type": "code",
   "execution_count": 53,
   "id": "0482ee0e",
   "metadata": {},
   "outputs": [
    {
     "data": {
      "text/plain": [
       "2021-06-09    36\n",
       "2021-06-30    36\n",
       "Name: Date, dtype: int64"
      ]
     },
     "execution_count": 53,
     "metadata": {},
     "output_type": "execute_result"
    }
   ],
   "source": [
    "plant_biomass[plant_biomass['PlantPart'] == 'Shoots']['Date'].value_counts()"
   ]
  },
  {
   "cell_type": "code",
   "execution_count": 50,
   "id": "2e072c0e",
   "metadata": {},
   "outputs": [
    {
     "name": "stdout",
     "output_type": "stream",
     "text": [
      "                   Anova\n",
      "===========================================\n",
      "               F Value Num DF Den DF Pr > F\n",
      "-------------------------------------------\n",
      "Nitrogen        1.9668 5.0000 5.0000 0.2378\n",
      "Water           0.2404 1.0000 1.0000 0.7098\n",
      "Nitrogen:Water  0.3145 5.0000 5.0000 0.8850\n",
      "===========================================\n",
      "\n"
     ]
    }
   ],
   "source": [
    "model = AnovaRM(plant_biomass[plant_biomass['PlantPart'] == 'Shoots'], 'DW_log', 'Date', within = ['Nitrogen','Water'], aggregate_func='mean')\n",
    "results = model.fit()\n",
    "print(results)"
   ]
  },
  {
   "cell_type": "code",
   "execution_count": 51,
   "id": "08248dd5",
   "metadata": {},
   "outputs": [
    {
     "data": {
      "text/plain": [
       "2021-09-23    36\n",
       "Name: Date, dtype: int64"
      ]
     },
     "execution_count": 51,
     "metadata": {},
     "output_type": "execute_result"
    }
   ],
   "source": [
    "plant_biomass[plant_biomass['PlantPart'] == 'Grain']['Date'].value_counts()"
   ]
  },
  {
   "cell_type": "code",
   "execution_count": 52,
   "id": "af720eb0",
   "metadata": {},
   "outputs": [
    {
     "data": {
      "text/html": [
       "<div>\n",
       "<style scoped>\n",
       "    .dataframe tbody tr th:only-of-type {\n",
       "        vertical-align: middle;\n",
       "    }\n",
       "\n",
       "    .dataframe tbody tr th {\n",
       "        vertical-align: top;\n",
       "    }\n",
       "\n",
       "    .dataframe thead th {\n",
       "        text-align: right;\n",
       "    }\n",
       "</style>\n",
       "<table border=\"1\" class=\"dataframe\">\n",
       "  <thead>\n",
       "    <tr style=\"text-align: right;\">\n",
       "      <th></th>\n",
       "      <th>sum_sq</th>\n",
       "      <th>df</th>\n",
       "      <th>F</th>\n",
       "      <th>PR(&gt;F)</th>\n",
       "    </tr>\n",
       "  </thead>\n",
       "  <tbody>\n",
       "    <tr>\n",
       "      <th>C(Nitrogen)</th>\n",
       "      <td>1.099549</td>\n",
       "      <td>5.0</td>\n",
       "      <td>3.132178</td>\n",
       "      <td>0.025732</td>\n",
       "    </tr>\n",
       "    <tr>\n",
       "      <th>C(Water)</th>\n",
       "      <td>1.635565</td>\n",
       "      <td>1.0</td>\n",
       "      <td>23.295377</td>\n",
       "      <td>0.000065</td>\n",
       "    </tr>\n",
       "    <tr>\n",
       "      <th>C(Nitrogen):C(Water)</th>\n",
       "      <td>0.183507</td>\n",
       "      <td>5.0</td>\n",
       "      <td>0.522740</td>\n",
       "      <td>0.756633</td>\n",
       "    </tr>\n",
       "    <tr>\n",
       "      <th>Residual</th>\n",
       "      <td>1.685036</td>\n",
       "      <td>24.0</td>\n",
       "      <td>NaN</td>\n",
       "      <td>NaN</td>\n",
       "    </tr>\n",
       "  </tbody>\n",
       "</table>\n",
       "</div>"
      ],
      "text/plain": [
       "                        sum_sq    df          F    PR(>F)\n",
       "C(Nitrogen)           1.099549   5.0   3.132178  0.025732\n",
       "C(Water)              1.635565   1.0  23.295377  0.000065\n",
       "C(Nitrogen):C(Water)  0.183507   5.0   0.522740  0.756633\n",
       "Residual              1.685036  24.0        NaN       NaN"
      ]
     },
     "execution_count": 52,
     "metadata": {},
     "output_type": "execute_result"
    }
   ],
   "source": [
    "model = ols('DW_log ~ C(Nitrogen) + C(Water) + C(Nitrogen):C(Water)', data=plant_biomass[plant_biomass['PlantPart'] == 'Grain']).fit()\n",
    "anova_table = sm.stats.anova_lm(model, typ=2)\n",
    "anova_table"
   ]
  }
 ],
 "metadata": {
  "kernelspec": {
   "display_name": "Python 3",
   "language": "python",
   "name": "python3"
  },
  "language_info": {
   "codemirror_mode": {
    "name": "ipython",
    "version": 3
   },
   "file_extension": ".py",
   "mimetype": "text/x-python",
   "name": "python",
   "nbconvert_exporter": "python",
   "pygments_lexer": "ipython3",
   "version": "3.6.12"
  }
 },
 "nbformat": 4,
 "nbformat_minor": 5
}
