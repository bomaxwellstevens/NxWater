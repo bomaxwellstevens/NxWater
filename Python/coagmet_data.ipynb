{
 "cells": [
  {
   "cell_type": "code",
   "execution_count": 2,
   "id": "f2cd96dc",
   "metadata": {},
   "outputs": [],
   "source": [
    "import pandas as pd\n",
    "import numpy as np\n",
    "import seaborn as sns\n",
    "import matplotlib.pyplot as plt"
   ]
  },
  {
   "cell_type": "code",
   "execution_count": 4,
   "id": "c8cb7583",
   "metadata": {},
   "outputs": [
    {
     "name": "stdout",
     "output_type": "stream",
     "text": [
      "Datetime      NaN\n",
      "AirTemp        °C\n",
      "RH              %\n",
      "Dewpoint       °C\n",
      "SolarRad     W/m2\n",
      "Precip         mm\n",
      "Wind          m/s\n",
      "WindDir        °N\n",
      "Gust          m/s\n",
      "GustDir        °N\n",
      "5cmSoil        °C\n",
      "15cm Soil      °C\n",
      "Name: 0, dtype: object\n"
     ]
    },
    {
     "data": {
      "text/html": [
       "<div>\n",
       "<style scoped>\n",
       "    .dataframe tbody tr th:only-of-type {\n",
       "        vertical-align: middle;\n",
       "    }\n",
       "\n",
       "    .dataframe tbody tr th {\n",
       "        vertical-align: top;\n",
       "    }\n",
       "\n",
       "    .dataframe thead th {\n",
       "        text-align: right;\n",
       "    }\n",
       "</style>\n",
       "<table border=\"1\" class=\"dataframe\">\n",
       "  <thead>\n",
       "    <tr style=\"text-align: right;\">\n",
       "      <th></th>\n",
       "      <th>AirTemp</th>\n",
       "      <th>RH</th>\n",
       "      <th>Dewpoint</th>\n",
       "      <th>SolarRad</th>\n",
       "      <th>Precip</th>\n",
       "      <th>Wind</th>\n",
       "      <th>WindDir</th>\n",
       "      <th>Gust</th>\n",
       "      <th>GustDir</th>\n",
       "      <th>5cmSoil</th>\n",
       "    </tr>\n",
       "    <tr>\n",
       "      <th>Datetime</th>\n",
       "      <th></th>\n",
       "      <th></th>\n",
       "      <th></th>\n",
       "      <th></th>\n",
       "      <th></th>\n",
       "      <th></th>\n",
       "      <th></th>\n",
       "      <th></th>\n",
       "      <th></th>\n",
       "      <th></th>\n",
       "    </tr>\n",
       "  </thead>\n",
       "  <tbody>\n",
       "    <tr>\n",
       "      <th>2021-01-01</th>\n",
       "      <td>-69.9</td>\n",
       "      <td>1755.4</td>\n",
       "      <td>-156.4</td>\n",
       "      <td>2157.6</td>\n",
       "      <td>0.0</td>\n",
       "      <td>80.9</td>\n",
       "      <td>7166.0</td>\n",
       "      <td>109.6</td>\n",
       "      <td>7180.0</td>\n",
       "      <td>-32.9</td>\n",
       "    </tr>\n",
       "    <tr>\n",
       "      <th>2021-01-02</th>\n",
       "      <td>-39.8</td>\n",
       "      <td>1657.0</td>\n",
       "      <td>-169.0</td>\n",
       "      <td>2562.2</td>\n",
       "      <td>0.0</td>\n",
       "      <td>78.6</td>\n",
       "      <td>6380.0</td>\n",
       "      <td>118.4</td>\n",
       "      <td>6353.0</td>\n",
       "      <td>-37.5</td>\n",
       "    </tr>\n",
       "    <tr>\n",
       "      <th>2021-01-03</th>\n",
       "      <td>39.3</td>\n",
       "      <td>1303.8</td>\n",
       "      <td>-183.2</td>\n",
       "      <td>2473.9</td>\n",
       "      <td>0.0</td>\n",
       "      <td>87.0</td>\n",
       "      <td>6262.0</td>\n",
       "      <td>131.5</td>\n",
       "      <td>5997.0</td>\n",
       "      <td>-26.3</td>\n",
       "    </tr>\n",
       "    <tr>\n",
       "      <th>2021-01-04</th>\n",
       "      <td>64.4</td>\n",
       "      <td>1334.2</td>\n",
       "      <td>-142.6</td>\n",
       "      <td>2605.4</td>\n",
       "      <td>0.0</td>\n",
       "      <td>95.9</td>\n",
       "      <td>5843.0</td>\n",
       "      <td>146.7</td>\n",
       "      <td>5809.0</td>\n",
       "      <td>-6.9</td>\n",
       "    </tr>\n",
       "    <tr>\n",
       "      <th>2021-01-05</th>\n",
       "      <td>65.8</td>\n",
       "      <td>1528.1</td>\n",
       "      <td>-93.4</td>\n",
       "      <td>1456.2</td>\n",
       "      <td>1.1</td>\n",
       "      <td>150.2</td>\n",
       "      <td>7035.0</td>\n",
       "      <td>225.7</td>\n",
       "      <td>6980.0</td>\n",
       "      <td>-0.3</td>\n",
       "    </tr>\n",
       "  </tbody>\n",
       "</table>\n",
       "</div>"
      ],
      "text/plain": [
       "            AirTemp      RH  Dewpoint  SolarRad  Precip   Wind  WindDir  \\\n",
       "Datetime                                                                  \n",
       "2021-01-01    -69.9  1755.4    -156.4    2157.6     0.0   80.9   7166.0   \n",
       "2021-01-02    -39.8  1657.0    -169.0    2562.2     0.0   78.6   6380.0   \n",
       "2021-01-03     39.3  1303.8    -183.2    2473.9     0.0   87.0   6262.0   \n",
       "2021-01-04     64.4  1334.2    -142.6    2605.4     0.0   95.9   5843.0   \n",
       "2021-01-05     65.8  1528.1     -93.4    1456.2     1.1  150.2   7035.0   \n",
       "\n",
       "             Gust  GustDir  5cmSoil  \n",
       "Datetime                             \n",
       "2021-01-01  109.6   7180.0    -32.9  \n",
       "2021-01-02  118.4   6353.0    -37.5  \n",
       "2021-01-03  131.5   5997.0    -26.3  \n",
       "2021-01-04  146.7   5809.0     -6.9  \n",
       "2021-01-05  225.7   6980.0     -0.3  "
      ]
     },
     "execution_count": 4,
     "metadata": {},
     "output_type": "execute_result"
    }
   ],
   "source": [
    "data = pd.read_csv('../Data/CoAgMet/Akron02-2021.csv')\n",
    "units = data.loc[0]\n",
    "data = data.loc[1:,:]\n",
    "data['Datetime'] = [pd.Timestamp(x) for x in data['Datetime']]\n",
    "cols = ['AirTemp', 'RH', 'Dewpoint', 'SolarRad', 'Precip', 'Wind',\n",
    "       'WindDir', 'Gust', 'GustDir', '5cmSoil']\n",
    "data[cols] = data[cols].apply(pd.to_numeric, errors='coerce')\n",
    "data = data.groupby(pd.Grouper(key='Datetime', axis=0, freq='D')).sum()\n",
    "print(units)\n",
    "data.head()"
   ]
  },
  {
   "cell_type": "code",
   "execution_count": 5,
   "id": "bd854fbc",
   "metadata": {},
   "outputs": [
    {
     "data": {
      "text/plain": [
       "[<matplotlib.lines.Line2D at 0x7f1227b0def0>]"
      ]
     },
     "execution_count": 5,
     "metadata": {},
     "output_type": "execute_result"
    },
    {
     "data": {
      "image/png": "[encoded data removed]",
      "text/plain": [
       "<Figure size 432x288 with 1 Axes>"
      ]
     },
     "metadata": {
      "needs_background": "light"
     },
     "output_type": "display_data"
    }
   ],
   "source": [
    "sns.lineplot(y = 'Precip', x = 'Datetime', data = data)\n",
    "plt.ylabel('Precip (mm)')\n",
    "plt.plot([pd.to_datetime('2021-06-30'),pd.to_datetime('2021-06-30')], [0, max(data['Precip'])], color = 'red', linestyle='dashed')\n",
    "plt.plot([pd.to_datetime('2021-07-27'),pd.to_datetime('2021-07-27')], [0, max(data['Precip'])], color = 'red', linestyle='dashed')\n",
    "plt.plot([pd.to_datetime('2021-08-10'),pd.to_datetime('2021-08-10')], [0, max(data['Precip'])], color = 'red', linestyle='dashed')\n",
    "plt.plot([pd.to_datetime('2021-09-23'),pd.to_datetime('2021-09-23')], [0, max(data['Precip'])], color = 'red', linestyle='dashed')\n",
    "plt.plot([pd.to_datetime('2021-06-15'),pd.to_datetime('2021-06-15')], [0, max(data['Precip'])], color = 'black', linestyle='dashed')\n",
    "plt.plot([pd.to_datetime('2021-06-03'),pd.to_datetime('2021-06-03')], [0, max(data['Precip'])], color = 'green', linestyle='dashed')"
   ]
  }
 ],
 "metadata": {
  "kernelspec": {
   "display_name": "Python 3",
   "language": "python",
   "name": "python3"
  },
  "language_info": {
   "codemirror_mode": {
    "name": "ipython",
    "version": 3
   },
   "file_extension": ".py",
   "mimetype": "text/x-python",
   "name": "python",
   "nbconvert_exporter": "python",
   "pygments_lexer": "ipython3",
   "version": "3.6.12"
  }
 },
 "nbformat": 4,
 "nbformat_minor": 5
}
